{
 "cells": [
  {
   "cell_type": "markdown",
   "source": [
    "# Diabetes Readmission modelling using Gradient Boosted Tree model"
   ],
   "metadata": {
    "application/vnd.databricks.v1+cell": {
     "showTitle": false,
     "cellMetadata": {},
     "nuid": "a627be25-9fcd-4b57-84d1-c9f11a155876",
     "inputWidgets": {},
     "title": ""
    }
   }
  },
  {
   "cell_type": "code",
   "source": [
    "# Data processing\n",
    "from pyspark.sql.functions import log, col, exp\n",
    "\n",
    "# Modeling\n",
    "from pyspark.ml.feature import VectorAssembler\n",
    "from pyspark.ml.classification import GBTClassifier\n",
    "from pyspark.ml.evaluation import BinaryClassificationEvaluator\n"
   ],
   "metadata": {
    "application/vnd.databricks.v1+cell": {
     "showTitle": false,
     "cellMetadata": {
      "rowLimit": 10000,
      "byteLimit": 2048000
     },
     "nuid": "3c72ddea-d6b7-426b-bed6-861fb814ff4b",
     "inputWidgets": {},
     "title": ""
    }
   },
   "outputs": [
    {
     "output_type": "display_data",
     "metadata": {
      "application/vnd.databricks.v1+output": {
       "datasetInfos": [],
       "data": "<div class=\"ansiout\"></div>",
       "removedWidgets": [],
       "addedWidgets": {},
       "metadata": {},
       "type": "html",
       "arguments": {}
      }
     },
     "data": {
      "text/html": [
       "<style scoped>\n",
       "  .ansiout {\n",
       "    display: block;\n",
       "    unicode-bidi: embed;\n",
       "    white-space: pre-wrap;\n",
       "    word-wrap: break-word;\n",
       "    word-break: break-all;\n",
       "    font-family: \"Source Code Pro\", \"Menlo\", monospace;;\n",
       "    font-size: 13px;\n",
       "    color: #555;\n",
       "    margin-left: 4px;\n",
       "    line-height: 19px;\n",
       "  }\n",
       "</style>\n",
       "<div class=\"ansiout\"></div>"
      ]
     }
    }
   ],
   "execution_count": 0
  },
  {
   "cell_type": "code",
   "source": [
    "diabetes_readmit = spark.read.table(\"diab_readmit_csv\")\n",
    "write_path = 'dbfs:/tmp/reproducible_ml_uofl/diab_readmit_csv.delta'\n",
    "diabetes_readmit.write.format('delta').mode('overwrite').save(write_path)"
   ],
   "metadata": {
    "application/vnd.databricks.v1+cell": {
     "showTitle": false,
     "cellMetadata": {
      "rowLimit": 10000,
      "byteLimit": 2048000
     },
     "nuid": "64021ba7-9975-4aa7-865c-813f95a25cdd",
     "inputWidgets": {},
     "title": ""
    }
   },
   "outputs": [
    {
     "output_type": "display_data",
     "metadata": {
      "application/vnd.databricks.v1+output": {
       "datasetInfos": [
        {
         "name": "diabetes_readmit",
         "typeStr": "pyspark.sql.dataframe.DataFrame",
         "schema": {
          "fields": [
           {
            "metadata": {},
            "name": "patient_nbr",
            "nullable": true,
            "type": "integer"
           },
           {
            "metadata": {},
            "name": "time_in_hospital",
            "nullable": true,
            "type": "integer"
           },
           {
            "metadata": {},
            "name": "num_procedures",
            "nullable": true,
            "type": "integer"
           },
           {
            "metadata": {},
            "name": "num_lab_procedures",
            "nullable": true,
            "type": "integer"
           },
           {
            "metadata": {},
            "name": "num_medications",
            "nullable": true,
            "type": "integer"
           },
           {
            "metadata": {},
            "name": "number_outpatient",
            "nullable": true,
            "type": "integer"
           },
           {
            "metadata": {},
            "name": "number_inpatient",
            "nullable": true,
            "type": "integer"
           },
           {
            "metadata": {},
            "name": "number_emergency",
            "nullable": true,
            "type": "integer"
           },
           {
            "metadata": {},
            "name": "number_diagnoses",
            "nullable": true,
            "type": "integer"
           },
           {
            "metadata": {},
            "name": "gender_cd",
            "nullable": true,
            "type": "integer"
           },
           {
            "metadata": {},
            "name": "DiabetesMedication",
            "nullable": true,
            "type": "integer"
           },
           {
            "metadata": {},
            "name": "readmit_flag",
            "nullable": true,
            "type": "integer"
           },
           {
            "metadata": {},
            "name": "race_cd",
            "nullable": true,
            "type": "string"
           }
          ],
          "type": "struct"
         },
         "tableIdentifier": null
        }
       ],
       "data": "<div class=\"ansiout\"></div>",
       "removedWidgets": [],
       "addedWidgets": {},
       "metadata": {},
       "type": "html",
       "arguments": {}
      }
     },
     "data": {
      "text/html": [
       "<style scoped>\n",
       "  .ansiout {\n",
       "    display: block;\n",
       "    unicode-bidi: embed;\n",
       "    white-space: pre-wrap;\n",
       "    word-wrap: break-word;\n",
       "    word-break: break-all;\n",
       "    font-family: \"Source Code Pro\", \"Menlo\", monospace;;\n",
       "    font-size: 13px;\n",
       "    color: #555;\n",
       "    margin-left: 4px;\n",
       "    line-height: 19px;\n",
       "  }\n",
       "</style>\n",
       "<div class=\"ansiout\"></div>"
      ]
     }
    }
   ],
   "execution_count": 0
  },
  {
   "cell_type": "code",
   "source": [
    "diabetes_readmit = spark.read.format('delta').load(write_path)\n",
    "\n",
    "#Show basic summary stats\n",
    "display(diabetes_readmit.summary())"
   ],
   "metadata": {
    "application/vnd.databricks.v1+cell": {
     "showTitle": false,
     "cellMetadata": {
      "rowLimit": 10000,
      "byteLimit": 2048000
     },
     "nuid": "d3aa690d-d250-47ac-863f-c9fed2af22e8",
     "inputWidgets": {},
     "title": ""
    }
   },
   "outputs": [
    {
     "output_type": "display_data",
     "metadata": {
      "application/vnd.databricks.v1+output": {
       "overflow": false,
       "datasetInfos": [
        {
         "name": "diabetes_readmit",
         "typeStr": "pyspark.sql.dataframe.DataFrame",
         "schema": {
          "fields": [
           {
            "metadata": {},
            "name": "patient_nbr",
            "nullable": true,
            "type": "integer"
           },
           {
            "metadata": {},
            "name": "time_in_hospital",
            "nullable": true,
            "type": "integer"
           },
           {
            "metadata": {},
            "name": "num_procedures",
            "nullable": true,
            "type": "integer"
           },
           {
            "metadata": {},
            "name": "num_lab_procedures",
            "nullable": true,
            "type": "integer"
           },
           {
            "metadata": {},
            "name": "num_medications",
            "nullable": true,
            "type": "integer"
           },
           {
            "metadata": {},
            "name": "number_outpatient",
            "nullable": true,
            "type": "integer"
           },
           {
            "metadata": {},
            "name": "number_inpatient",
            "nullable": true,
            "type": "integer"
           },
           {
            "metadata": {},
            "name": "number_emergency",
            "nullable": true,
            "type": "integer"
           },
           {
            "metadata": {},
            "name": "number_diagnoses",
            "nullable": true,
            "type": "integer"
           },
           {
            "metadata": {},
            "name": "gender_cd",
            "nullable": true,
            "type": "integer"
           },
           {
            "metadata": {},
            "name": "DiabetesMedication",
            "nullable": true,
            "type": "integer"
           },
           {
            "metadata": {},
            "name": "readmit_flag",
            "nullable": true,
            "type": "integer"
           },
           {
            "metadata": {},
            "name": "race_cd",
            "nullable": true,
            "type": "string"
           }
          ],
          "type": "struct"
         },
         "tableIdentifier": "dbfs:/tmp/reproducible_ml_uofl/diab_readmit_csv.delta"
        }
       ],
       "data": [
        [
         "count",
         "101766",
         "101766",
         "101766",
         "101766",
         "101766",
         "101766",
         "101766",
         "101766",
         "101766",
         "101766",
         "101766",
         "101766",
         "101766"
        ],
        [
         "mean",
         "5.4330400694947235E7",
         "4.395986871843248",
         "1.339730361810428",
         "43.09564098028811",
         "16.021844230882614",
         "0.36935715268360747",
         "0.635565906098304",
         "0.19783621248747127",
         "7.422606764538254",
         "0.5375862272271682",
         "0.7700312481575379",
         "0.11159915885462728",
         null
        ],
        [
         "stddev",
         "3.869635934653421E7",
         "2.985107767471267",
         "1.705806979121172",
         "19.674362249142096",
         "8.127566209167309",
         "1.2672650965326817",
         "1.26286329009732",
         "0.9304722684224632",
         "1.9336001449974247",
         "0.49858772375671534",
         "0.420814525814695",
         "0.3148741984505526",
         null
        ],
        [
         "min",
         "135",
         "1",
         "0",
         "1",
         "1",
         "0",
         "0",
         "0",
         "1",
         "0",
         "0",
         "0",
         "AfrAmr"
        ],
        [
         "25%",
         "23412645",
         "2",
         "0",
         "31",
         "10",
         "0",
         "0",
         "0",
         "6",
         "0",
         "1",
         "0",
         null
        ],
        [
         "50%",
         "45500490",
         "4",
         "1",
         "44",
         "15",
         "0",
         "0",
         "0",
         "8",
         "1",
         "1",
         "0",
         null
        ],
        [
         "75%",
         "87532902",
         "6",
         "2",
         "57",
         "20",
         "0",
         "1",
         "0",
         "9",
         "1",
         "1",
         "0",
         null
        ],
        [
         "max",
         "189502619",
         "14",
         "6",
         "132",
         "81",
         "42",
         "21",
         "76",
         "16",
         "1",
         "1",
         "1",
         "White"
        ]
       ],
       "plotOptions": {
        "displayType": "table",
        "customPlotOptions": {},
        "pivotColumns": null,
        "pivotAggregation": null,
        "xColumns": null,
        "yColumns": null
       },
       "columnCustomDisplayInfos": {},
       "aggType": "",
       "isJsonSchema": true,
       "removedWidgets": [],
       "aggSchema": [],
       "schema": [
        {
         "name": "summary",
         "type": "\"string\"",
         "metadata": "{}"
        },
        {
         "name": "patient_nbr",
         "type": "\"string\"",
         "metadata": "{}"
        },
        {
         "name": "time_in_hospital",
         "type": "\"string\"",
         "metadata": "{}"
        },
        {
         "name": "num_procedures",
         "type": "\"string\"",
         "metadata": "{}"
        },
        {
         "name": "num_lab_procedures",
         "type": "\"string\"",
         "metadata": "{}"
        },
        {
         "name": "num_medications",
         "type": "\"string\"",
         "metadata": "{}"
        },
        {
         "name": "number_outpatient",
         "type": "\"string\"",
         "metadata": "{}"
        },
        {
         "name": "number_inpatient",
         "type": "\"string\"",
         "metadata": "{}"
        },
        {
         "name": "number_emergency",
         "type": "\"string\"",
         "metadata": "{}"
        },
        {
         "name": "number_diagnoses",
         "type": "\"string\"",
         "metadata": "{}"
        },
        {
         "name": "gender_cd",
         "type": "\"string\"",
         "metadata": "{}"
        },
        {
         "name": "DiabetesMedication",
         "type": "\"string\"",
         "metadata": "{}"
        },
        {
         "name": "readmit_flag",
         "type": "\"string\"",
         "metadata": "{}"
        },
        {
         "name": "race_cd",
         "type": "\"string\"",
         "metadata": "{}"
        }
       ],
       "aggError": "",
       "aggData": [],
       "addedWidgets": {},
       "metadata": {},
       "dbfsResultPath": null,
       "type": "table",
       "aggOverflow": false,
       "aggSeriesLimitReached": false,
       "arguments": {}
      }
     },
     "data": {
      "text/html": [
       "<style scoped>\n",
       "  .table-result-container {\n",
       "    max-height: 300px;\n",
       "    overflow: auto;\n",
       "  }\n",
       "  table, th, td {\n",
       "    border: 1px solid black;\n",
       "    border-collapse: collapse;\n",
       "  }\n",
       "  th, td {\n",
       "    padding: 5px;\n",
       "  }\n",
       "  th {\n",
       "    text-align: left;\n",
       "  }\n",
       "</style><div class='table-result-container'><table class='table-result'><thead style='background-color: white'><tr><th>summary</th><th>patient_nbr</th><th>time_in_hospital</th><th>num_procedures</th><th>num_lab_procedures</th><th>num_medications</th><th>number_outpatient</th><th>number_inpatient</th><th>number_emergency</th><th>number_diagnoses</th><th>gender_cd</th><th>DiabetesMedication</th><th>readmit_flag</th><th>race_cd</th></tr></thead><tbody><tr><td>count</td><td>101766</td><td>101766</td><td>101766</td><td>101766</td><td>101766</td><td>101766</td><td>101766</td><td>101766</td><td>101766</td><td>101766</td><td>101766</td><td>101766</td><td>101766</td></tr><tr><td>mean</td><td>5.4330400694947235E7</td><td>4.395986871843248</td><td>1.339730361810428</td><td>43.09564098028811</td><td>16.021844230882614</td><td>0.36935715268360747</td><td>0.635565906098304</td><td>0.19783621248747127</td><td>7.422606764538254</td><td>0.5375862272271682</td><td>0.7700312481575379</td><td>0.11159915885462728</td><td>null</td></tr><tr><td>stddev</td><td>3.869635934653421E7</td><td>2.985107767471267</td><td>1.705806979121172</td><td>19.674362249142096</td><td>8.127566209167309</td><td>1.2672650965326817</td><td>1.26286329009732</td><td>0.9304722684224632</td><td>1.9336001449974247</td><td>0.49858772375671534</td><td>0.420814525814695</td><td>0.3148741984505526</td><td>null</td></tr><tr><td>min</td><td>135</td><td>1</td><td>0</td><td>1</td><td>1</td><td>0</td><td>0</td><td>0</td><td>1</td><td>0</td><td>0</td><td>0</td><td>AfrAmr</td></tr><tr><td>25%</td><td>23412645</td><td>2</td><td>0</td><td>31</td><td>10</td><td>0</td><td>0</td><td>0</td><td>6</td><td>0</td><td>1</td><td>0</td><td>null</td></tr><tr><td>50%</td><td>45500490</td><td>4</td><td>1</td><td>44</td><td>15</td><td>0</td><td>0</td><td>0</td><td>8</td><td>1</td><td>1</td><td>0</td><td>null</td></tr><tr><td>75%</td><td>87532902</td><td>6</td><td>2</td><td>57</td><td>20</td><td>0</td><td>1</td><td>0</td><td>9</td><td>1</td><td>1</td><td>0</td><td>null</td></tr><tr><td>max</td><td>189502619</td><td>14</td><td>6</td><td>132</td><td>81</td><td>42</td><td>21</td><td>76</td><td>16</td><td>1</td><td>1</td><td>1</td><td>White</td></tr></tbody></table></div>"
      ]
     }
    }
   ],
   "execution_count": 0
  },
  {
   "cell_type": "code",
   "source": [
    "# Train test split\n",
    "trainDF, testDF = diabetes_readmit.randomSplit([.65, .35], seed=42)\n",
    "# Print the number of records\n",
    "print(f'There are {trainDF.cache().count()} records in the training dataset.')\n",
    "print(f'There are {testDF.cache().count()} records in the testing dataset.')"
   ],
   "metadata": {
    "application/vnd.databricks.v1+cell": {
     "showTitle": false,
     "cellMetadata": {
      "rowLimit": 10000,
      "byteLimit": 2048000
     },
     "nuid": "cbca723d-70fc-46d9-b996-cb36638f4b6d",
     "inputWidgets": {},
     "title": ""
    }
   },
   "outputs": [
    {
     "output_type": "display_data",
     "metadata": {
      "application/vnd.databricks.v1+output": {
       "datasetInfos": [
        {
         "name": "trainDF",
         "typeStr": "pyspark.sql.dataframe.DataFrame",
         "schema": {
          "fields": [
           {
            "metadata": {},
            "name": "patient_nbr",
            "nullable": true,
            "type": "integer"
           },
           {
            "metadata": {},
            "name": "time_in_hospital",
            "nullable": true,
            "type": "integer"
           },
           {
            "metadata": {},
            "name": "num_procedures",
            "nullable": true,
            "type": "integer"
           },
           {
            "metadata": {},
            "name": "num_lab_procedures",
            "nullable": true,
            "type": "integer"
           },
           {
            "metadata": {},
            "name": "num_medications",
            "nullable": true,
            "type": "integer"
           },
           {
            "metadata": {},
            "name": "number_outpatient",
            "nullable": true,
            "type": "integer"
           },
           {
            "metadata": {},
            "name": "number_inpatient",
            "nullable": true,
            "type": "integer"
           },
           {
            "metadata": {},
            "name": "number_emergency",
            "nullable": true,
            "type": "integer"
           },
           {
            "metadata": {},
            "name": "number_diagnoses",
            "nullable": true,
            "type": "integer"
           },
           {
            "metadata": {},
            "name": "gender_cd",
            "nullable": true,
            "type": "integer"
           },
           {
            "metadata": {},
            "name": "DiabetesMedication",
            "nullable": true,
            "type": "integer"
           },
           {
            "metadata": {},
            "name": "readmit_flag",
            "nullable": true,
            "type": "integer"
           },
           {
            "metadata": {},
            "name": "race_cd",
            "nullable": true,
            "type": "string"
           }
          ],
          "type": "struct"
         },
         "tableIdentifier": null
        },
        {
         "name": "testDF",
         "typeStr": "pyspark.sql.dataframe.DataFrame",
         "schema": {
          "fields": [
           {
            "metadata": {},
            "name": "patient_nbr",
            "nullable": true,
            "type": "integer"
           },
           {
            "metadata": {},
            "name": "time_in_hospital",
            "nullable": true,
            "type": "integer"
           },
           {
            "metadata": {},
            "name": "num_procedures",
            "nullable": true,
            "type": "integer"
           },
           {
            "metadata": {},
            "name": "num_lab_procedures",
            "nullable": true,
            "type": "integer"
           },
           {
            "metadata": {},
            "name": "num_medications",
            "nullable": true,
            "type": "integer"
           },
           {
            "metadata": {},
            "name": "number_outpatient",
            "nullable": true,
            "type": "integer"
           },
           {
            "metadata": {},
            "name": "number_inpatient",
            "nullable": true,
            "type": "integer"
           },
           {
            "metadata": {},
            "name": "number_emergency",
            "nullable": true,
            "type": "integer"
           },
           {
            "metadata": {},
            "name": "number_diagnoses",
            "nullable": true,
            "type": "integer"
           },
           {
            "metadata": {},
            "name": "gender_cd",
            "nullable": true,
            "type": "integer"
           },
           {
            "metadata": {},
            "name": "DiabetesMedication",
            "nullable": true,
            "type": "integer"
           },
           {
            "metadata": {},
            "name": "readmit_flag",
            "nullable": true,
            "type": "integer"
           },
           {
            "metadata": {},
            "name": "race_cd",
            "nullable": true,
            "type": "string"
           }
          ],
          "type": "struct"
         },
         "tableIdentifier": null
        }
       ],
       "data": "<div class=\"ansiout\">There are 66284 records in the training dataset.\nThere are 35482 records in the testing dataset.\n</div>",
       "removedWidgets": [],
       "addedWidgets": {},
       "metadata": {},
       "type": "html",
       "arguments": {}
      }
     },
     "data": {
      "text/html": [
       "<style scoped>\n",
       "  .ansiout {\n",
       "    display: block;\n",
       "    unicode-bidi: embed;\n",
       "    white-space: pre-wrap;\n",
       "    word-wrap: break-word;\n",
       "    word-break: break-all;\n",
       "    font-family: \"Source Code Pro\", \"Menlo\", monospace;;\n",
       "    font-size: 13px;\n",
       "    color: #555;\n",
       "    margin-left: 4px;\n",
       "    line-height: 19px;\n",
       "  }\n",
       "</style>\n",
       "<div class=\"ansiout\">There are 66284 records in the training dataset.\n",
       "There are 35482 records in the testing dataset.\n",
       "</div>"
      ]
     }
    }
   ],
   "execution_count": 0
  },
  {
   "cell_type": "markdown",
   "source": [
    "##Now we need to modify the categorical variable race_cd into one-hot-encoded version\n",
    " For this we can either use the StringIndexer and OneHotEncoder separately OR use a pipeline to do this in one step"
   ],
   "metadata": {
    "application/vnd.databricks.v1+cell": {
     "showTitle": false,
     "cellMetadata": {
      "rowLimit": 10000,
      "byteLimit": 2048000
     },
     "nuid": "49346026-09ef-4c39-99d4-cbec017e789e",
     "inputWidgets": {},
     "title": ""
    }
   }
  },
  {
   "cell_type": "code",
   "source": [
    "#You can also create a pipeline and do everything together in one easy fit and transform step\n",
    "from pyspark.ml import Pipeline\n",
    "from pyspark.ml.feature import StringIndexer, VectorAssembler\n",
    " \n",
    "categoricalColumns = [\"race_cd\"]\n",
    "stages = [] # stages in Pipeline\n",
    "for categoricalCol in categoricalColumns:\n",
    "    # Category Indexing with StringIndexer\n",
    "    stringIndexer = StringIndexer(inputCol=categoricalCol, outputCol=categoricalCol + \"Index\")\n",
    "    \n",
    "# Use OneHotEncoder to convert categorical variables into binary SparseVectors\n",
    "from pyspark.ml.feature import OneHotEncoder\n",
    "encoder = OneHotEncoder(inputCols=[stringIndexer.getOutputCol()], outputCols=[categoricalCol + \"classVec\"])\n",
    "\n",
    "# Define the pipeline based on the stages created in previous steps.\n",
    "pipeline = Pipeline(stages=[stringIndexer, encoder])\n",
    " \n",
    "# Define the pipeline model.\n",
    "transform_mdl = pipeline.fit(trainDF)\n",
    "trainDF21=transform_mdl.transform(trainDF)\n",
    "trainDF21.show()"
   ],
   "metadata": {
    "application/vnd.databricks.v1+cell": {
     "showTitle": false,
     "cellMetadata": {
      "rowLimit": 10000,
      "byteLimit": 2048000
     },
     "nuid": "c1805ce5-cbc3-4de4-9b0f-7685d61aee10",
     "inputWidgets": {},
     "title": ""
    }
   },
   "outputs": [
    {
     "output_type": "display_data",
     "metadata": {
      "application/vnd.databricks.v1+output": {
       "datasetInfos": [
        {
         "name": "trainDF21",
         "typeStr": "pyspark.sql.dataframe.DataFrame",
         "schema": {
          "fields": [
           {
            "metadata": {},
            "name": "patient_nbr",
            "nullable": true,
            "type": "integer"
           },
           {
            "metadata": {},
            "name": "time_in_hospital",
            "nullable": true,
            "type": "integer"
           },
           {
            "metadata": {},
            "name": "num_procedures",
            "nullable": true,
            "type": "integer"
           },
           {
            "metadata": {},
            "name": "num_lab_procedures",
            "nullable": true,
            "type": "integer"
           },
           {
            "metadata": {},
            "name": "num_medications",
            "nullable": true,
            "type": "integer"
           },
           {
            "metadata": {},
            "name": "number_outpatient",
            "nullable": true,
            "type": "integer"
           },
           {
            "metadata": {},
            "name": "number_inpatient",
            "nullable": true,
            "type": "integer"
           },
           {
            "metadata": {},
            "name": "number_emergency",
            "nullable": true,
            "type": "integer"
           },
           {
            "metadata": {},
            "name": "number_diagnoses",
            "nullable": true,
            "type": "integer"
           },
           {
            "metadata": {},
            "name": "gender_cd",
            "nullable": true,
            "type": "integer"
           },
           {
            "metadata": {},
            "name": "DiabetesMedication",
            "nullable": true,
            "type": "integer"
           },
           {
            "metadata": {},
            "name": "readmit_flag",
            "nullable": true,
            "type": "integer"
           },
           {
            "metadata": {},
            "name": "race_cd",
            "nullable": true,
            "type": "string"
           },
           {
            "metadata": {
             "ml_attr": {
              "name": "race_cdIndex",
              "type": "nominal",
              "vals": [
               "White",
               "AfrAmr",
               "Unk",
               "Hispanic",
               "Asian"
              ]
             }
            },
            "name": "race_cdIndex",
            "nullable": false,
            "type": "double"
           },
           {
            "metadata": {
             "ml_attr": {
              "attrs": {
               "binary": [
                {
                 "idx": 0,
                 "name": "White"
                },
                {
                 "idx": 1,
                 "name": "AfrAmr"
                },
                {
                 "idx": 2,
                 "name": "Unk"
                },
                {
                 "idx": 3,
                 "name": "Hispanic"
                }
               ]
              },
              "num_attrs": 4
             }
            },
            "name": "race_cdclassVec",
            "nullable": true,
            "type": {
             "class": "org.apache.spark.ml.linalg.VectorUDT",
             "pyClass": "pyspark.ml.linalg.VectorUDT",
             "sqlType": {
              "fields": [
               {
                "metadata": {},
                "name": "type",
                "nullable": false,
                "type": "byte"
               },
               {
                "metadata": {},
                "name": "size",
                "nullable": true,
                "type": "integer"
               },
               {
                "metadata": {},
                "name": "indices",
                "nullable": true,
                "type": {
                 "containsNull": false,
                 "elementType": "integer",
                 "type": "array"
                }
               },
               {
                "metadata": {},
                "name": "values",
                "nullable": true,
                "type": {
                 "containsNull": false,
                 "elementType": "double",
                 "type": "array"
                }
               }
              ],
              "type": "struct"
             },
             "type": "udt"
            }
           }
          ],
          "type": "struct"
         },
         "tableIdentifier": null
        }
       ],
       "data": "<div class=\"ansiout\">+-----------+----------------+--------------+------------------+---------------+-----------------+----------------+----------------+----------------+---------+------------------+------------+-------+------------+---------------+\n|patient_nbr|time_in_hospital|num_procedures|num_lab_procedures|num_medications|number_outpatient|number_inpatient|number_emergency|number_diagnoses|gender_cd|DiabetesMedication|readmit_flag|race_cd|race_cdIndex|race_cdclassVec|\n+-----------+----------------+--------------+------------------+---------------+-----------------+----------------+----------------+----------------+---------+------------------+------------+-------+------------+---------------+\n|        135|               3|             1|                31|             14|                0|               1|               0|               5|        1|                 1|           0|  White|         0.0|  (4,[0],[1.0])|\n|        135|               8|             6|                77|             33|                0|               0|               0|               8|        1|                 1|           1|  White|         0.0|  (4,[0],[1.0])|\n|        729|               4|             2|                68|             23|                0|               0|               0|               9|        1|                 1|           0|  White|         0.0|  (4,[0],[1.0])|\n|        927|               5|             0|                49|              5|                0|               0|               0|               3|        1|                 1|           0| AfrAmr|         1.0|  (4,[1],[1.0])|\n|       1152|               6|             4|                45|             15|                0|               2|               0|               6|        1|                 1|           0| AfrAmr|         1.0|  (4,[1],[1.0])|\n|       1152|              12|             1|                37|             18|                0|               2|               0|               5|        1|                 1|           0| AfrAmr|         1.0|  (4,[1],[1.0])|\n|       1314|               1|             5|                47|             12|                0|               1|               0|               7|        1|                 1|           1|  White|         0.0|  (4,[0],[1.0])|\n|       2025|              12|             2|                47|             18|                0|               0|               0|               9|        1|                 1|           0|  White|         0.0|  (4,[0],[1.0])|\n|       3069|               8|             6|                57|             31|                0|               0|               0|               9|        0|                 1|           0|  White|         0.0|  (4,[0],[1.0])|\n|       4302|               1|             1|                31|              9|                0|               0|               0|               7|        1|                 0|           0|  White|         0.0|  (4,[0],[1.0])|\n|       5220|               2|             0|                15|             14|                0|               0|               0|               9|        0|                 1|           0|  White|         0.0|  (4,[0],[1.0])|\n|       5220|              11|             4|                65|             19|                0|               2|               0|               9|        0|                 1|           0|  White|         0.0|  (4,[0],[1.0])|\n|       6174|               7|             0|                77|             12|                0|               0|               0|               9|        1|                 1|           0|  White|         0.0|  (4,[0],[1.0])|\n|       6228|               4|             4|                47|             16|                0|               0|               0|               7|        1|                 0|           0|  White|         0.0|  (4,[0],[1.0])|\n|       6309|               1|             5|                35|             13|                0|               0|               0|               8|        0|                 1|           0|  White|         0.0|  (4,[0],[1.0])|\n|       6939|               6|             2|                65|             19|                0|               0|               0|               7|        0|                 1|           0|  White|         0.0|  (4,[0],[1.0])|\n|       8154|               1|             0|                58|              5|                0|               0|               0|               8|        1|                 0|           0|  White|         0.0|  (4,[0],[1.0])|\n|       8748|               2|             0|                64|             10|                0|               0|               0|               9|        0|                 1|           0| AfrAmr|         1.0|  (4,[1],[1.0])|\n|      10377|               1|             2|                33|             12|                0|               0|               0|               5|        0|                 1|           0|  White|         0.0|  (4,[0],[1.0])|\n|      10422|               4|             2|                54|              3|                0|               0|               0|               8|        1|                 0|           0| AfrAmr|         1.0|  (4,[1],[1.0])|\n+-----------+----------------+--------------+------------------+---------------+-----------------+----------------+----------------+----------------+---------+------------------+------------+-------+------------+---------------+\nonly showing top 20 rows\n\n</div>",
       "removedWidgets": [],
       "addedWidgets": {},
       "metadata": {},
       "type": "html",
       "arguments": {}
      }
     },
     "data": {
      "text/html": [
       "<style scoped>\n",
       "  .ansiout {\n",
       "    display: block;\n",
       "    unicode-bidi: embed;\n",
       "    white-space: pre-wrap;\n",
       "    word-wrap: break-word;\n",
       "    word-break: break-all;\n",
       "    font-family: \"Source Code Pro\", \"Menlo\", monospace;;\n",
       "    font-size: 13px;\n",
       "    color: #555;\n",
       "    margin-left: 4px;\n",
       "    line-height: 19px;\n",
       "  }\n",
       "</style>\n",
       "<div class=\"ansiout\">+-----------+----------------+--------------+------------------+---------------+-----------------+----------------+----------------+----------------+---------+------------------+------------+-------+------------+---------------+\n",
       "patient_nbr|time_in_hospital|num_procedures|num_lab_procedures|num_medications|number_outpatient|number_inpatient|number_emergency|number_diagnoses|gender_cd|DiabetesMedication|readmit_flag|race_cd|race_cdIndex|race_cdclassVec|\n",
       "+-----------+----------------+--------------+------------------+---------------+-----------------+----------------+----------------+----------------+---------+------------------+------------+-------+------------+---------------+\n",
       "        135|               3|             1|                31|             14|                0|               1|               0|               5|        1|                 1|           0|  White|         0.0|  (4,[0],[1.0])|\n",
       "        135|               8|             6|                77|             33|                0|               0|               0|               8|        1|                 1|           1|  White|         0.0|  (4,[0],[1.0])|\n",
       "        729|               4|             2|                68|             23|                0|               0|               0|               9|        1|                 1|           0|  White|         0.0|  (4,[0],[1.0])|\n",
       "        927|               5|             0|                49|              5|                0|               0|               0|               3|        1|                 1|           0| AfrAmr|         1.0|  (4,[1],[1.0])|\n",
       "       1152|               6|             4|                45|             15|                0|               2|               0|               6|        1|                 1|           0| AfrAmr|         1.0|  (4,[1],[1.0])|\n",
       "       1152|              12|             1|                37|             18|                0|               2|               0|               5|        1|                 1|           0| AfrAmr|         1.0|  (4,[1],[1.0])|\n",
       "       1314|               1|             5|                47|             12|                0|               1|               0|               7|        1|                 1|           1|  White|         0.0|  (4,[0],[1.0])|\n",
       "       2025|              12|             2|                47|             18|                0|               0|               0|               9|        1|                 1|           0|  White|         0.0|  (4,[0],[1.0])|\n",
       "       3069|               8|             6|                57|             31|                0|               0|               0|               9|        0|                 1|           0|  White|         0.0|  (4,[0],[1.0])|\n",
       "       4302|               1|             1|                31|              9|                0|               0|               0|               7|        1|                 0|           0|  White|         0.0|  (4,[0],[1.0])|\n",
       "       5220|               2|             0|                15|             14|                0|               0|               0|               9|        0|                 1|           0|  White|         0.0|  (4,[0],[1.0])|\n",
       "       5220|              11|             4|                65|             19|                0|               2|               0|               9|        0|                 1|           0|  White|         0.0|  (4,[0],[1.0])|\n",
       "       6174|               7|             0|                77|             12|                0|               0|               0|               9|        1|                 1|           0|  White|         0.0|  (4,[0],[1.0])|\n",
       "       6228|               4|             4|                47|             16|                0|               0|               0|               7|        1|                 0|           0|  White|         0.0|  (4,[0],[1.0])|\n",
       "       6309|               1|             5|                35|             13|                0|               0|               0|               8|        0|                 1|           0|  White|         0.0|  (4,[0],[1.0])|\n",
       "       6939|               6|             2|                65|             19|                0|               0|               0|               7|        0|                 1|           0|  White|         0.0|  (4,[0],[1.0])|\n",
       "       8154|               1|             0|                58|              5|                0|               0|               0|               8|        1|                 0|           0|  White|         0.0|  (4,[0],[1.0])|\n",
       "       8748|               2|             0|                64|             10|                0|               0|               0|               9|        0|                 1|           0| AfrAmr|         1.0|  (4,[1],[1.0])|\n",
       "      10377|               1|             2|                33|             12|                0|               0|               0|               5|        0|                 1|           0|  White|         0.0|  (4,[0],[1.0])|\n",
       "      10422|               4|             2|                54|              3|                0|               0|               0|               8|        1|                 0|           0| AfrAmr|         1.0|  (4,[1],[1.0])|\n",
       "+-----------+----------------+--------------+------------------+---------------+-----------------+----------------+----------------+----------------+---------+------------------+------------+-------+------------+---------------+\n",
       "only showing top 20 rows\n",
       "\n",
       "</div>"
      ]
     }
    }
   ],
   "execution_count": 0
  },
  {
   "cell_type": "code",
   "source": [
    "# Linear regression expect a vector input\n",
    "vecAssembler = VectorAssembler(inputCols=['time_in_hospital','num_procedures','num_medications', 'number_inpatient','number_emergency','number_diagnoses','DiabetesMedication'], outputCol=\"features\")\n",
    "vecTrainDF = vecAssembler.transform(trainDF21)"
   ],
   "metadata": {
    "application/vnd.databricks.v1+cell": {
     "showTitle": false,
     "cellMetadata": {
      "rowLimit": 10000,
      "byteLimit": 2048000
     },
     "nuid": "f8fa852d-9b9d-459a-81a1-e921bdb941b1",
     "inputWidgets": {},
     "title": ""
    }
   },
   "outputs": [
    {
     "output_type": "display_data",
     "metadata": {
      "application/vnd.databricks.v1+output": {
       "datasetInfos": [
        {
         "name": "vecTrainDF",
         "typeStr": "pyspark.sql.dataframe.DataFrame",
         "schema": {
          "fields": [
           {
            "metadata": {},
            "name": "patient_nbr",
            "nullable": true,
            "type": "integer"
           },
           {
            "metadata": {},
            "name": "time_in_hospital",
            "nullable": true,
            "type": "integer"
           },
           {
            "metadata": {},
            "name": "num_procedures",
            "nullable": true,
            "type": "integer"
           },
           {
            "metadata": {},
            "name": "num_lab_procedures",
            "nullable": true,
            "type": "integer"
           },
           {
            "metadata": {},
            "name": "num_medications",
            "nullable": true,
            "type": "integer"
           },
           {
            "metadata": {},
            "name": "number_outpatient",
            "nullable": true,
            "type": "integer"
           },
           {
            "metadata": {},
            "name": "number_inpatient",
            "nullable": true,
            "type": "integer"
           },
           {
            "metadata": {},
            "name": "number_emergency",
            "nullable": true,
            "type": "integer"
           },
           {
            "metadata": {},
            "name": "number_diagnoses",
            "nullable": true,
            "type": "integer"
           },
           {
            "metadata": {},
            "name": "gender_cd",
            "nullable": true,
            "type": "integer"
           },
           {
            "metadata": {},
            "name": "DiabetesMedication",
            "nullable": true,
            "type": "integer"
           },
           {
            "metadata": {},
            "name": "readmit_flag",
            "nullable": true,
            "type": "integer"
           },
           {
            "metadata": {},
            "name": "race_cd",
            "nullable": true,
            "type": "string"
           },
           {
            "metadata": {
             "ml_attr": {
              "name": "race_cdIndex",
              "type": "nominal",
              "vals": [
               "White",
               "AfrAmr",
               "Unk",
               "Hispanic",
               "Asian"
              ]
             }
            },
            "name": "race_cdIndex",
            "nullable": false,
            "type": "double"
           },
           {
            "metadata": {
             "ml_attr": {
              "attrs": {
               "binary": [
                {
                 "idx": 0,
                 "name": "White"
                },
                {
                 "idx": 1,
                 "name": "AfrAmr"
                },
                {
                 "idx": 2,
                 "name": "Unk"
                },
                {
                 "idx": 3,
                 "name": "Hispanic"
                }
               ]
              },
              "num_attrs": 4
             }
            },
            "name": "race_cdclassVec",
            "nullable": true,
            "type": {
             "class": "org.apache.spark.ml.linalg.VectorUDT",
             "pyClass": "pyspark.ml.linalg.VectorUDT",
             "sqlType": {
              "fields": [
               {
                "metadata": {},
                "name": "type",
                "nullable": false,
                "type": "byte"
               },
               {
                "metadata": {},
                "name": "size",
                "nullable": true,
                "type": "integer"
               },
               {
                "metadata": {},
                "name": "indices",
                "nullable": true,
                "type": {
                 "containsNull": false,
                 "elementType": "integer",
                 "type": "array"
                }
               },
               {
                "metadata": {},
                "name": "values",
                "nullable": true,
                "type": {
                 "containsNull": false,
                 "elementType": "double",
                 "type": "array"
                }
               }
              ],
              "type": "struct"
             },
             "type": "udt"
            }
           },
           {
            "metadata": {
             "ml_attr": {
              "attrs": {
               "numeric": [
                {
                 "idx": 0,
                 "name": "time_in_hospital"
                },
                {
                 "idx": 1,
                 "name": "num_procedures"
                },
                {
                 "idx": 2,
                 "name": "num_medications"
                },
                {
                 "idx": 3,
                 "name": "number_inpatient"
                },
                {
                 "idx": 4,
                 "name": "number_emergency"
                },
                {
                 "idx": 5,
                 "name": "number_diagnoses"
                },
                {
                 "idx": 6,
                 "name": "DiabetesMedication"
                }
               ]
              },
              "num_attrs": 7
             }
            },
            "name": "features",
            "nullable": true,
            "type": {
             "class": "org.apache.spark.ml.linalg.VectorUDT",
             "pyClass": "pyspark.ml.linalg.VectorUDT",
             "sqlType": {
              "fields": [
               {
                "metadata": {},
                "name": "type",
                "nullable": false,
                "type": "byte"
               },
               {
                "metadata": {},
                "name": "size",
                "nullable": true,
                "type": "integer"
               },
               {
                "metadata": {},
                "name": "indices",
                "nullable": true,
                "type": {
                 "containsNull": false,
                 "elementType": "integer",
                 "type": "array"
                }
               },
               {
                "metadata": {},
                "name": "values",
                "nullable": true,
                "type": {
                 "containsNull": false,
                 "elementType": "double",
                 "type": "array"
                }
               }
              ],
              "type": "struct"
             },
             "type": "udt"
            }
           }
          ],
          "type": "struct"
         },
         "tableIdentifier": null
        }
       ],
       "data": "<div class=\"ansiout\"></div>",
       "removedWidgets": [],
       "addedWidgets": {},
       "metadata": {},
       "type": "html",
       "arguments": {}
      }
     },
     "data": {
      "text/html": [
       "<style scoped>\n",
       "  .ansiout {\n",
       "    display: block;\n",
       "    unicode-bidi: embed;\n",
       "    white-space: pre-wrap;\n",
       "    word-wrap: break-word;\n",
       "    word-break: break-all;\n",
       "    font-family: \"Source Code Pro\", \"Menlo\", monospace;;\n",
       "    font-size: 13px;\n",
       "    color: #555;\n",
       "    margin-left: 4px;\n",
       "    line-height: 19px;\n",
       "  }\n",
       "</style>\n",
       "<div class=\"ansiout\"></div>"
      ]
     }
    }
   ],
   "execution_count": 0
  },
  {
   "cell_type": "code",
   "source": [
    "# Create Decision tree calssifier\n",
    "gb = GBTClassifier(featuresCol=\"features\", labelCol=\"readmit_flag\", maxIter=10)\n",
    "gbModel = gb.fit(vecTrainDF)\n",
    "predict_train = gbModel.transform(vecTrainDF)\n",
    "predict_train.select('readmit_flag', 'rawPrediction', 'prediction', 'probability').show(10)\n"
   ],
   "metadata": {
    "application/vnd.databricks.v1+cell": {
     "showTitle": false,
     "cellMetadata": {
      "rowLimit": 10000,
      "byteLimit": 2048000
     },
     "nuid": "2b2b03c5-11a2-4374-8d3c-c7ce7a6c4182",
     "inputWidgets": {},
     "title": ""
    }
   },
   "outputs": [
    {
     "output_type": "display_data",
     "metadata": {
      "application/vnd.databricks.v1+output": {
       "datasetInfos": [
        {
         "name": "predict_train",
         "typeStr": "pyspark.sql.dataframe.DataFrame",
         "schema": {
          "fields": [
           {
            "metadata": {},
            "name": "patient_nbr",
            "nullable": true,
            "type": "integer"
           },
           {
            "metadata": {},
            "name": "time_in_hospital",
            "nullable": true,
            "type": "integer"
           },
           {
            "metadata": {},
            "name": "num_procedures",
            "nullable": true,
            "type": "integer"
           },
           {
            "metadata": {},
            "name": "num_lab_procedures",
            "nullable": true,
            "type": "integer"
           },
           {
            "metadata": {},
            "name": "num_medications",
            "nullable": true,
            "type": "integer"
           },
           {
            "metadata": {},
            "name": "number_outpatient",
            "nullable": true,
            "type": "integer"
           },
           {
            "metadata": {},
            "name": "number_inpatient",
            "nullable": true,
            "type": "integer"
           },
           {
            "metadata": {},
            "name": "number_emergency",
            "nullable": true,
            "type": "integer"
           },
           {
            "metadata": {},
            "name": "number_diagnoses",
            "nullable": true,
            "type": "integer"
           },
           {
            "metadata": {},
            "name": "gender_cd",
            "nullable": true,
            "type": "integer"
           },
           {
            "metadata": {},
            "name": "DiabetesMedication",
            "nullable": true,
            "type": "integer"
           },
           {
            "metadata": {},
            "name": "readmit_flag",
            "nullable": true,
            "type": "integer"
           },
           {
            "metadata": {},
            "name": "race_cd",
            "nullable": true,
            "type": "string"
           },
           {
            "metadata": {
             "ml_attr": {
              "name": "race_cdIndex",
              "type": "nominal",
              "vals": [
               "White",
               "AfrAmr",
               "Unk",
               "Hispanic",
               "Asian"
              ]
             }
            },
            "name": "race_cdIndex",
            "nullable": false,
            "type": "double"
           },
           {
            "metadata": {
             "ml_attr": {
              "attrs": {
               "binary": [
                {
                 "idx": 0,
                 "name": "White"
                },
                {
                 "idx": 1,
                 "name": "AfrAmr"
                },
                {
                 "idx": 2,
                 "name": "Unk"
                },
                {
                 "idx": 3,
                 "name": "Hispanic"
                }
               ]
              },
              "num_attrs": 4
             }
            },
            "name": "race_cdclassVec",
            "nullable": true,
            "type": {
             "class": "org.apache.spark.ml.linalg.VectorUDT",
             "pyClass": "pyspark.ml.linalg.VectorUDT",
             "sqlType": {
              "fields": [
               {
                "metadata": {},
                "name": "type",
                "nullable": false,
                "type": "byte"
               },
               {
                "metadata": {},
                "name": "size",
                "nullable": true,
                "type": "integer"
               },
               {
                "metadata": {},
                "name": "indices",
                "nullable": true,
                "type": {
                 "containsNull": false,
                 "elementType": "integer",
                 "type": "array"
                }
               },
               {
                "metadata": {},
                "name": "values",
                "nullable": true,
                "type": {
                 "containsNull": false,
                 "elementType": "double",
                 "type": "array"
                }
               }
              ],
              "type": "struct"
             },
             "type": "udt"
            }
           },
           {
            "metadata": {
             "ml_attr": {
              "attrs": {
               "numeric": [
                {
                 "idx": 0,
                 "name": "time_in_hospital"
                },
                {
                 "idx": 1,
                 "name": "num_procedures"
                },
                {
                 "idx": 2,
                 "name": "num_medications"
                },
                {
                 "idx": 3,
                 "name": "number_inpatient"
                },
                {
                 "idx": 4,
                 "name": "number_emergency"
                },
                {
                 "idx": 5,
                 "name": "number_diagnoses"
                },
                {
                 "idx": 6,
                 "name": "DiabetesMedication"
                }
               ]
              },
              "num_attrs": 7
             }
            },
            "name": "features",
            "nullable": true,
            "type": {
             "class": "org.apache.spark.ml.linalg.VectorUDT",
             "pyClass": "pyspark.ml.linalg.VectorUDT",
             "sqlType": {
              "fields": [
               {
                "metadata": {},
                "name": "type",
                "nullable": false,
                "type": "byte"
               },
               {
                "metadata": {},
                "name": "size",
                "nullable": true,
                "type": "integer"
               },
               {
                "metadata": {},
                "name": "indices",
                "nullable": true,
                "type": {
                 "containsNull": false,
                 "elementType": "integer",
                 "type": "array"
                }
               },
               {
                "metadata": {},
                "name": "values",
                "nullable": true,
                "type": {
                 "containsNull": false,
                 "elementType": "double",
                 "type": "array"
                }
               }
              ],
              "type": "struct"
             },
             "type": "udt"
            }
           },
           {
            "metadata": {
             "ml_attr": {
              "num_attrs": 2
             }
            },
            "name": "rawPrediction",
            "nullable": true,
            "type": {
             "class": "org.apache.spark.ml.linalg.VectorUDT",
             "pyClass": "pyspark.ml.linalg.VectorUDT",
             "sqlType": {
              "fields": [
               {
                "metadata": {},
                "name": "type",
                "nullable": false,
                "type": "byte"
               },
               {
                "metadata": {},
                "name": "size",
                "nullable": true,
                "type": "integer"
               },
               {
                "metadata": {},
                "name": "indices",
                "nullable": true,
                "type": {
                 "containsNull": false,
                 "elementType": "integer",
                 "type": "array"
                }
               },
               {
                "metadata": {},
                "name": "values",
                "nullable": true,
                "type": {
                 "containsNull": false,
                 "elementType": "double",
                 "type": "array"
                }
               }
              ],
              "type": "struct"
             },
             "type": "udt"
            }
           },
           {
            "metadata": {
             "ml_attr": {
              "num_attrs": 2
             }
            },
            "name": "probability",
            "nullable": true,
            "type": {
             "class": "org.apache.spark.ml.linalg.VectorUDT",
             "pyClass": "pyspark.ml.linalg.VectorUDT",
             "sqlType": {
              "fields": [
               {
                "metadata": {},
                "name": "type",
                "nullable": false,
                "type": "byte"
               },
               {
                "metadata": {},
                "name": "size",
                "nullable": true,
                "type": "integer"
               },
               {
                "metadata": {},
                "name": "indices",
                "nullable": true,
                "type": {
                 "containsNull": false,
                 "elementType": "integer",
                 "type": "array"
                }
               },
               {
                "metadata": {},
                "name": "values",
                "nullable": true,
                "type": {
                 "containsNull": false,
                 "elementType": "double",
                 "type": "array"
                }
               }
              ],
              "type": "struct"
             },
             "type": "udt"
            }
           },
           {
            "metadata": {
             "ml_attr": {
              "num_vals": 2,
              "type": "nominal"
             }
            },
            "name": "prediction",
            "nullable": false,
            "type": "double"
           }
          ],
          "type": "struct"
         },
         "tableIdentifier": null
        }
       ],
       "data": "<div class=\"ansiout\">+------------+--------------------+----------+--------------------+\n|readmit_flag|       rawPrediction|prediction|         probability|\n+------------+--------------------+----------+--------------------+\n|           0|[0.89847276518385...|       0.0|[0.85777670961770...|\n|           1|[0.90726124252145...|       0.0|[0.85990756968257...|\n|           0|[1.00764121633762...|       0.0|[0.88239232080574...|\n|           0|[1.08835690805716...|       0.0|[0.89813882710874...|\n|           0|[0.75779059732160...|       0.0|[0.81988686716235...|\n|           0|[0.79387342512559...|       0.0|[0.83029886449996...|\n|           1|[0.97450854624165...|       0.0|[0.87533942619764...|\n|           0|[0.91949866233976...|       0.0|[0.86283007962227...|\n|           0|[0.92235212364794...|       0.0|[0.86350412111502...|\n|           0|[1.10231943276251...|       0.0|[0.90066530976988...|\n+------------+--------------------+----------+--------------------+\nonly showing top 10 rows\n\n</div>",
       "removedWidgets": [],
       "addedWidgets": {},
       "metadata": {},
       "type": "html",
       "arguments": {}
      }
     },
     "data": {
      "text/html": [
       "<style scoped>\n",
       "  .ansiout {\n",
       "    display: block;\n",
       "    unicode-bidi: embed;\n",
       "    white-space: pre-wrap;\n",
       "    word-wrap: break-word;\n",
       "    word-break: break-all;\n",
       "    font-family: \"Source Code Pro\", \"Menlo\", monospace;;\n",
       "    font-size: 13px;\n",
       "    color: #555;\n",
       "    margin-left: 4px;\n",
       "    line-height: 19px;\n",
       "  }\n",
       "</style>\n",
       "<div class=\"ansiout\">+------------+--------------------+----------+--------------------+\n",
       "readmit_flag|       rawPrediction|prediction|         probability|\n",
       "+------------+--------------------+----------+--------------------+\n",
       "           0|[0.89847276518385...|       0.0|[0.85777670961770...|\n",
       "           1|[0.90726124252145...|       0.0|[0.85990756968257...|\n",
       "           0|[1.00764121633762...|       0.0|[0.88239232080574...|\n",
       "           0|[1.08835690805716...|       0.0|[0.89813882710874...|\n",
       "           0|[0.75779059732160...|       0.0|[0.81988686716235...|\n",
       "           0|[0.79387342512559...|       0.0|[0.83029886449996...|\n",
       "           1|[0.97450854624165...|       0.0|[0.87533942619764...|\n",
       "           0|[0.91949866233976...|       0.0|[0.86283007962227...|\n",
       "           0|[0.92235212364794...|       0.0|[0.86350412111502...|\n",
       "           0|[1.10231943276251...|       0.0|[0.90066530976988...|\n",
       "+------------+--------------------+----------+--------------------+\n",
       "only showing top 10 rows\n",
       "\n",
       "</div>"
      ]
     }
    }
   ],
   "execution_count": 0
  },
  {
   "cell_type": "code",
   "source": [
    "testDF21=transform_mdl.transform(testDF) #do the data transformation using saved parameters from training\n",
    "vecTestDF = vecAssembler.transform(testDF21) #do the feature transformation using vector assembler\n",
    "# Make predictions on testing dataset\n",
    "predict_test = gbModel.transform(vecTestDF) #make predictions using the trained model"
   ],
   "metadata": {
    "application/vnd.databricks.v1+cell": {
     "showTitle": false,
     "cellMetadata": {
      "rowLimit": 10000,
      "byteLimit": 2048000
     },
     "nuid": "a03d2a6e-81c1-40ec-bb3e-95d9aebaa32c",
     "inputWidgets": {},
     "title": ""
    }
   },
   "outputs": [
    {
     "output_type": "display_data",
     "metadata": {
      "application/vnd.databricks.v1+output": {
       "datasetInfos": [
        {
         "name": "testDF21",
         "typeStr": "pyspark.sql.dataframe.DataFrame",
         "schema": {
          "fields": [
           {
            "metadata": {},
            "name": "patient_nbr",
            "nullable": true,
            "type": "integer"
           },
           {
            "metadata": {},
            "name": "time_in_hospital",
            "nullable": true,
            "type": "integer"
           },
           {
            "metadata": {},
            "name": "num_procedures",
            "nullable": true,
            "type": "integer"
           },
           {
            "metadata": {},
            "name": "num_lab_procedures",
            "nullable": true,
            "type": "integer"
           },
           {
            "metadata": {},
            "name": "num_medications",
            "nullable": true,
            "type": "integer"
           },
           {
            "metadata": {},
            "name": "number_outpatient",
            "nullable": true,
            "type": "integer"
           },
           {
            "metadata": {},
            "name": "number_inpatient",
            "nullable": true,
            "type": "integer"
           },
           {
            "metadata": {},
            "name": "number_emergency",
            "nullable": true,
            "type": "integer"
           },
           {
            "metadata": {},
            "name": "number_diagnoses",
            "nullable": true,
            "type": "integer"
           },
           {
            "metadata": {},
            "name": "gender_cd",
            "nullable": true,
            "type": "integer"
           },
           {
            "metadata": {},
            "name": "DiabetesMedication",
            "nullable": true,
            "type": "integer"
           },
           {
            "metadata": {},
            "name": "readmit_flag",
            "nullable": true,
            "type": "integer"
           },
           {
            "metadata": {},
            "name": "race_cd",
            "nullable": true,
            "type": "string"
           },
           {
            "metadata": {
             "ml_attr": {
              "name": "race_cdIndex",
              "type": "nominal",
              "vals": [
               "White",
               "AfrAmr",
               "Unk",
               "Hispanic",
               "Asian"
              ]
             }
            },
            "name": "race_cdIndex",
            "nullable": false,
            "type": "double"
           },
           {
            "metadata": {
             "ml_attr": {
              "attrs": {
               "binary": [
                {
                 "idx": 0,
                 "name": "White"
                },
                {
                 "idx": 1,
                 "name": "AfrAmr"
                },
                {
                 "idx": 2,
                 "name": "Unk"
                },
                {
                 "idx": 3,
                 "name": "Hispanic"
                }
               ]
              },
              "num_attrs": 4
             }
            },
            "name": "race_cdclassVec",
            "nullable": true,
            "type": {
             "class": "org.apache.spark.ml.linalg.VectorUDT",
             "pyClass": "pyspark.ml.linalg.VectorUDT",
             "sqlType": {
              "fields": [
               {
                "metadata": {},
                "name": "type",
                "nullable": false,
                "type": "byte"
               },
               {
                "metadata": {},
                "name": "size",
                "nullable": true,
                "type": "integer"
               },
               {
                "metadata": {},
                "name": "indices",
                "nullable": true,
                "type": {
                 "containsNull": false,
                 "elementType": "integer",
                 "type": "array"
                }
               },
               {
                "metadata": {},
                "name": "values",
                "nullable": true,
                "type": {
                 "containsNull": false,
                 "elementType": "double",
                 "type": "array"
                }
               }
              ],
              "type": "struct"
             },
             "type": "udt"
            }
           }
          ],
          "type": "struct"
         },
         "tableIdentifier": null
        },
        {
         "name": "vecTestDF",
         "typeStr": "pyspark.sql.dataframe.DataFrame",
         "schema": {
          "fields": [
           {
            "metadata": {},
            "name": "patient_nbr",
            "nullable": true,
            "type": "integer"
           },
           {
            "metadata": {},
            "name": "time_in_hospital",
            "nullable": true,
            "type": "integer"
           },
           {
            "metadata": {},
            "name": "num_procedures",
            "nullable": true,
            "type": "integer"
           },
           {
            "metadata": {},
            "name": "num_lab_procedures",
            "nullable": true,
            "type": "integer"
           },
           {
            "metadata": {},
            "name": "num_medications",
            "nullable": true,
            "type": "integer"
           },
           {
            "metadata": {},
            "name": "number_outpatient",
            "nullable": true,
            "type": "integer"
           },
           {
            "metadata": {},
            "name": "number_inpatient",
            "nullable": true,
            "type": "integer"
           },
           {
            "metadata": {},
            "name": "number_emergency",
            "nullable": true,
            "type": "integer"
           },
           {
            "metadata": {},
            "name": "number_diagnoses",
            "nullable": true,
            "type": "integer"
           },
           {
            "metadata": {},
            "name": "gender_cd",
            "nullable": true,
            "type": "integer"
           },
           {
            "metadata": {},
            "name": "DiabetesMedication",
            "nullable": true,
            "type": "integer"
           },
           {
            "metadata": {},
            "name": "readmit_flag",
            "nullable": true,
            "type": "integer"
           },
           {
            "metadata": {},
            "name": "race_cd",
            "nullable": true,
            "type": "string"
           },
           {
            "metadata": {
             "ml_attr": {
              "name": "race_cdIndex",
              "type": "nominal",
              "vals": [
               "White",
               "AfrAmr",
               "Unk",
               "Hispanic",
               "Asian"
              ]
             }
            },
            "name": "race_cdIndex",
            "nullable": false,
            "type": "double"
           },
           {
            "metadata": {
             "ml_attr": {
              "attrs": {
               "binary": [
                {
                 "idx": 0,
                 "name": "White"
                },
                {
                 "idx": 1,
                 "name": "AfrAmr"
                },
                {
                 "idx": 2,
                 "name": "Unk"
                },
                {
                 "idx": 3,
                 "name": "Hispanic"
                }
               ]
              },
              "num_attrs": 4
             }
            },
            "name": "race_cdclassVec",
            "nullable": true,
            "type": {
             "class": "org.apache.spark.ml.linalg.VectorUDT",
             "pyClass": "pyspark.ml.linalg.VectorUDT",
             "sqlType": {
              "fields": [
               {
                "metadata": {},
                "name": "type",
                "nullable": false,
                "type": "byte"
               },
               {
                "metadata": {},
                "name": "size",
                "nullable": true,
                "type": "integer"
               },
               {
                "metadata": {},
                "name": "indices",
                "nullable": true,
                "type": {
                 "containsNull": false,
                 "elementType": "integer",
                 "type": "array"
                }
               },
               {
                "metadata": {},
                "name": "values",
                "nullable": true,
                "type": {
                 "containsNull": false,
                 "elementType": "double",
                 "type": "array"
                }
               }
              ],
              "type": "struct"
             },
             "type": "udt"
            }
           },
           {
            "metadata": {
             "ml_attr": {
              "attrs": {
               "numeric": [
                {
                 "idx": 0,
                 "name": "time_in_hospital"
                },
                {
                 "idx": 1,
                 "name": "num_procedures"
                },
                {
                 "idx": 2,
                 "name": "num_medications"
                },
                {
                 "idx": 3,
                 "name": "number_inpatient"
                },
                {
                 "idx": 4,
                 "name": "number_emergency"
                },
                {
                 "idx": 5,
                 "name": "number_diagnoses"
                },
                {
                 "idx": 6,
                 "name": "DiabetesMedication"
                }
               ]
              },
              "num_attrs": 7
             }
            },
            "name": "features",
            "nullable": true,
            "type": {
             "class": "org.apache.spark.ml.linalg.VectorUDT",
             "pyClass": "pyspark.ml.linalg.VectorUDT",
             "sqlType": {
              "fields": [
               {
                "metadata": {},
                "name": "type",
                "nullable": false,
                "type": "byte"
               },
               {
                "metadata": {},
                "name": "size",
                "nullable": true,
                "type": "integer"
               },
               {
                "metadata": {},
                "name": "indices",
                "nullable": true,
                "type": {
                 "containsNull": false,
                 "elementType": "integer",
                 "type": "array"
                }
               },
               {
                "metadata": {},
                "name": "values",
                "nullable": true,
                "type": {
                 "containsNull": false,
                 "elementType": "double",
                 "type": "array"
                }
               }
              ],
              "type": "struct"
             },
             "type": "udt"
            }
           }
          ],
          "type": "struct"
         },
         "tableIdentifier": null
        },
        {
         "name": "predict_test",
         "typeStr": "pyspark.sql.dataframe.DataFrame",
         "schema": {
          "fields": [
           {
            "metadata": {},
            "name": "patient_nbr",
            "nullable": true,
            "type": "integer"
           },
           {
            "metadata": {},
            "name": "time_in_hospital",
            "nullable": true,
            "type": "integer"
           },
           {
            "metadata": {},
            "name": "num_procedures",
            "nullable": true,
            "type": "integer"
           },
           {
            "metadata": {},
            "name": "num_lab_procedures",
            "nullable": true,
            "type": "integer"
           },
           {
            "metadata": {},
            "name": "num_medications",
            "nullable": true,
            "type": "integer"
           },
           {
            "metadata": {},
            "name": "number_outpatient",
            "nullable": true,
            "type": "integer"
           },
           {
            "metadata": {},
            "name": "number_inpatient",
            "nullable": true,
            "type": "integer"
           },
           {
            "metadata": {},
            "name": "number_emergency",
            "nullable": true,
            "type": "integer"
           },
           {
            "metadata": {},
            "name": "number_diagnoses",
            "nullable": true,
            "type": "integer"
           },
           {
            "metadata": {},
            "name": "gender_cd",
            "nullable": true,
            "type": "integer"
           },
           {
            "metadata": {},
            "name": "DiabetesMedication",
            "nullable": true,
            "type": "integer"
           },
           {
            "metadata": {},
            "name": "readmit_flag",
            "nullable": true,
            "type": "integer"
           },
           {
            "metadata": {},
            "name": "race_cd",
            "nullable": true,
            "type": "string"
           },
           {
            "metadata": {
             "ml_attr": {
              "name": "race_cdIndex",
              "type": "nominal",
              "vals": [
               "White",
               "AfrAmr",
               "Unk",
               "Hispanic",
               "Asian"
              ]
             }
            },
            "name": "race_cdIndex",
            "nullable": false,
            "type": "double"
           },
           {
            "metadata": {
             "ml_attr": {
              "attrs": {
               "binary": [
                {
                 "idx": 0,
                 "name": "White"
                },
                {
                 "idx": 1,
                 "name": "AfrAmr"
                },
                {
                 "idx": 2,
                 "name": "Unk"
                },
                {
                 "idx": 3,
                 "name": "Hispanic"
                }
               ]
              },
              "num_attrs": 4
             }
            },
            "name": "race_cdclassVec",
            "nullable": true,
            "type": {
             "class": "org.apache.spark.ml.linalg.VectorUDT",
             "pyClass": "pyspark.ml.linalg.VectorUDT",
             "sqlType": {
              "fields": [
               {
                "metadata": {},
                "name": "type",
                "nullable": false,
                "type": "byte"
               },
               {
                "metadata": {},
                "name": "size",
                "nullable": true,
                "type": "integer"
               },
               {
                "metadata": {},
                "name": "indices",
                "nullable": true,
                "type": {
                 "containsNull": false,
                 "elementType": "integer",
                 "type": "array"
                }
               },
               {
                "metadata": {},
                "name": "values",
                "nullable": true,
                "type": {
                 "containsNull": false,
                 "elementType": "double",
                 "type": "array"
                }
               }
              ],
              "type": "struct"
             },
             "type": "udt"
            }
           },
           {
            "metadata": {
             "ml_attr": {
              "attrs": {
               "numeric": [
                {
                 "idx": 0,
                 "name": "time_in_hospital"
                },
                {
                 "idx": 1,
                 "name": "num_procedures"
                },
                {
                 "idx": 2,
                 "name": "num_medications"
                },
                {
                 "idx": 3,
                 "name": "number_inpatient"
                },
                {
                 "idx": 4,
                 "name": "number_emergency"
                },
                {
                 "idx": 5,
                 "name": "number_diagnoses"
                },
                {
                 "idx": 6,
                 "name": "DiabetesMedication"
                }
               ]
              },
              "num_attrs": 7
             }
            },
            "name": "features",
            "nullable": true,
            "type": {
             "class": "org.apache.spark.ml.linalg.VectorUDT",
             "pyClass": "pyspark.ml.linalg.VectorUDT",
             "sqlType": {
              "fields": [
               {
                "metadata": {},
                "name": "type",
                "nullable": false,
                "type": "byte"
               },
               {
                "metadata": {},
                "name": "size",
                "nullable": true,
                "type": "integer"
               },
               {
                "metadata": {},
                "name": "indices",
                "nullable": true,
                "type": {
                 "containsNull": false,
                 "elementType": "integer",
                 "type": "array"
                }
               },
               {
                "metadata": {},
                "name": "values",
                "nullable": true,
                "type": {
                 "containsNull": false,
                 "elementType": "double",
                 "type": "array"
                }
               }
              ],
              "type": "struct"
             },
             "type": "udt"
            }
           },
           {
            "metadata": {
             "ml_attr": {
              "num_attrs": 2
             }
            },
            "name": "rawPrediction",
            "nullable": true,
            "type": {
             "class": "org.apache.spark.ml.linalg.VectorUDT",
             "pyClass": "pyspark.ml.linalg.VectorUDT",
             "sqlType": {
              "fields": [
               {
                "metadata": {},
                "name": "type",
                "nullable": false,
                "type": "byte"
               },
               {
                "metadata": {},
                "name": "size",
                "nullable": true,
                "type": "integer"
               },
               {
                "metadata": {},
                "name": "indices",
                "nullable": true,
                "type": {
                 "containsNull": false,
                 "elementType": "integer",
                 "type": "array"
                }
               },
               {
                "metadata": {},
                "name": "values",
                "nullable": true,
                "type": {
                 "containsNull": false,
                 "elementType": "double",
                 "type": "array"
                }
               }
              ],
              "type": "struct"
             },
             "type": "udt"
            }
           },
           {
            "metadata": {
             "ml_attr": {
              "num_attrs": 2
             }
            },
            "name": "probability",
            "nullable": true,
            "type": {
             "class": "org.apache.spark.ml.linalg.VectorUDT",
             "pyClass": "pyspark.ml.linalg.VectorUDT",
             "sqlType": {
              "fields": [
               {
                "metadata": {},
                "name": "type",
                "nullable": false,
                "type": "byte"
               },
               {
                "metadata": {},
                "name": "size",
                "nullable": true,
                "type": "integer"
               },
               {
                "metadata": {},
                "name": "indices",
                "nullable": true,
                "type": {
                 "containsNull": false,
                 "elementType": "integer",
                 "type": "array"
                }
               },
               {
                "metadata": {},
                "name": "values",
                "nullable": true,
                "type": {
                 "containsNull": false,
                 "elementType": "double",
                 "type": "array"
                }
               }
              ],
              "type": "struct"
             },
             "type": "udt"
            }
           },
           {
            "metadata": {
             "ml_attr": {
              "num_vals": 2,
              "type": "nominal"
             }
            },
            "name": "prediction",
            "nullable": false,
            "type": "double"
           }
          ],
          "type": "struct"
         },
         "tableIdentifier": null
        }
       ],
       "data": "<div class=\"ansiout\"></div>",
       "removedWidgets": [],
       "addedWidgets": {},
       "metadata": {},
       "type": "html",
       "arguments": {}
      }
     },
     "data": {
      "text/html": [
       "<style scoped>\n",
       "  .ansiout {\n",
       "    display: block;\n",
       "    unicode-bidi: embed;\n",
       "    white-space: pre-wrap;\n",
       "    word-wrap: break-word;\n",
       "    word-break: break-all;\n",
       "    font-family: \"Source Code Pro\", \"Menlo\", monospace;;\n",
       "    font-size: 13px;\n",
       "    color: #555;\n",
       "    margin-left: 4px;\n",
       "    line-height: 19px;\n",
       "  }\n",
       "</style>\n",
       "<div class=\"ansiout\"></div>"
      ]
     }
    }
   ],
   "execution_count": 0
  },
  {
   "cell_type": "code",
   "source": [
    "eval_gb = BinaryClassificationEvaluator(labelCol = \"readmit_flag\")\n",
    "auc_train = eval_gb.evaluate(predict_train)\n",
    "print(auc_train)\n",
    "\n",
    "auc_test = eval_gb.evaluate(predict_test)\n",
    "print(auc_test)"
   ],
   "metadata": {
    "application/vnd.databricks.v1+cell": {
     "showTitle": false,
     "cellMetadata": {
      "rowLimit": 10000,
      "byteLimit": 2048000
     },
     "nuid": "98dd8d65-8d05-4ede-bd0e-ba9c70f2df3d",
     "inputWidgets": {},
     "title": ""
    }
   },
   "outputs": [
    {
     "output_type": "display_data",
     "metadata": {
      "application/vnd.databricks.v1+output": {
       "datasetInfos": [],
       "data": "<div class=\"ansiout\">0.6424448289113724\n0.6311239854049069\n</div>",
       "removedWidgets": [],
       "addedWidgets": {},
       "metadata": {},
       "type": "html",
       "arguments": {}
      }
     },
     "data": {
      "text/html": [
       "<style scoped>\n",
       "  .ansiout {\n",
       "    display: block;\n",
       "    unicode-bidi: embed;\n",
       "    white-space: pre-wrap;\n",
       "    word-wrap: break-word;\n",
       "    word-break: break-all;\n",
       "    font-family: \"Source Code Pro\", \"Menlo\", monospace;;\n",
       "    font-size: 13px;\n",
       "    color: #555;\n",
       "    margin-left: 4px;\n",
       "    line-height: 19px;\n",
       "  }\n",
       "</style>\n",
       "<div class=\"ansiout\">0.6424448289113724\n",
       "0.6311239854049069\n",
       "</div>"
      ]
     }
    }
   ],
   "execution_count": 0
  },
  {
   "cell_type": "code",
   "source": [
    "import pandas as pd\n",
    "import time \n",
    "import sys\n",
    "from pyspark.sql.window import *\n",
    "from pyspark.sql.types import * \n",
    "from pyspark.sql.functions import *\n",
    "import pyspark.sql.functions as f\n",
    "\n",
    "def get_model_stats(print_lable,dataset,evaluator,mbr_id,target):\n",
    "  print(print_lable)\n",
    "  AUROC=evaluator.evaluate(dataset)\n",
    "  \n",
    "  tot_event=dataset.count()\n",
    "  tot_target=dataset.select(target).filter(f.col(target)==1).count()\n",
    "  inc_rate=float(tot_target)/float(tot_event)\n",
    "  print('Incidence rate in dataset: ',inc_rate)\n",
    "  print('AUROC: ',AUROC)\n",
    "  \n",
    "\n",
    "  def mbr_prob1(prob_vec):\n",
    "    return float(prob_vec[1]) #Get the second value from probability vector of the prediction since that is probability of target 1\n",
    "  def mbr_prob2(rawp_vec):\n",
    "    prob_vec = np.exp(rawp_vector)/(1+ np.exp(rawp_vec)) #this is the same as the logit function e**x/1+e**x\n",
    "    return float(prob_vec[1])\n",
    "  get_prob_1= udf(mbr_prob1, FloatType())\n",
    "  get_prob_2= udf(mbr_prob2, FloatType())\n",
    "\n",
    "  try:\n",
    "    df_plot_tmp = dataset.withColumn('prob_score', get_prob_1('probability'))\n",
    "  except:\n",
    "    df_plot_tmp = dataset.withColumn('prob_score', get_prob_2('rawPrediction'))\n",
    "  df_reg1=(df_plot_tmp.select(mbr_id,\"rawPrediction\",\"probability\",\"prob_score\",target))\n",
    "\n",
    "  #Create Percentiles based on the predicted probability\n",
    "  df_reg_12=  df_reg1.sort(col(\"prob_score\").desc())\n",
    "  df_reg_12 = df_reg_12.withColumn(\"new_column\",lit(\"ABC\"))\n",
    "  w = Window().partitionBy(\"new_column\").orderBy(col(\"prob_score\").desc())  \n",
    "  df_reg_12 = df_reg_12.withColumn(\"row_num\",row_number().over(w)).drop(\"new_column\")\n",
    "  df_reg2 = (df_reg_12\n",
    "             .withColumn(\"score_pctl\", f.percent_rank().over(Window.orderBy(f.col(\"row_num\"))))\n",
    "             .withColumn(\"pctl_cat\", f.when(f.col(\"score_pctl\")==1, f.lit(100)).otherwise(f.floor(f.col(\"score_pctl\")*100) + 1))\n",
    "             )\n",
    "  df_reg22 = (df_reg2\n",
    "              .groupBy(\"pctl_cat\")\n",
    "              .agg(f.mean(target).alias(\"pctl_target_rate\"),\\\n",
    "                   (f.sum(target)).alias(\"pctl_target_total\"),\\\n",
    "                   (f.count(mbr_id)).alias(\"total_count\"),\\\n",
    "                   (f.mean(\"prob_score\")).alias(\"mean_predicted_prob\")\n",
    "                  ,)\n",
    "              .orderBy(f.col(\"pctl_cat\"))\n",
    "              )\n",
    "\n",
    "  #Now let's create the cumulative percentiles\n",
    "  cum_sum = (df_reg22\n",
    "              .withColumn('cum_target', f.sum(df_reg22.pctl_target_total).over(Window.partitionBy().orderBy().rowsBetween(-sys.maxsize, 0)))\n",
    "              .withColumn('cum_total', f.sum(df_reg22.total_count).over(Window.partitionBy().orderBy().rowsBetween(-sys.maxsize, 0)))\n",
    "              .withColumn('cum_target_cap_rate',f.col(\"cum_target\")/f.col(\"cum_total\"))\n",
    "              .withColumn('cum_target_cap_of_total',((f.col(\"cum_target\")/tot_target))*100)\n",
    "            )\n",
    "  return cum_sum"
   ],
   "metadata": {
    "application/vnd.databricks.v1+cell": {
     "showTitle": false,
     "cellMetadata": {
      "rowLimit": 10000,
      "byteLimit": 2048000
     },
     "nuid": "8da8ad76-b9da-449e-a580-32c555694f1e",
     "inputWidgets": {},
     "title": ""
    }
   },
   "outputs": [
    {
     "output_type": "display_data",
     "metadata": {
      "application/vnd.databricks.v1+output": {
       "datasetInfos": [],
       "data": "<div class=\"ansiout\"></div>",
       "removedWidgets": [],
       "addedWidgets": {},
       "metadata": {},
       "type": "html",
       "arguments": {}
      }
     },
     "data": {
      "text/html": [
       "<style scoped>\n",
       "  .ansiout {\n",
       "    display: block;\n",
       "    unicode-bidi: embed;\n",
       "    white-space: pre-wrap;\n",
       "    word-wrap: break-word;\n",
       "    word-break: break-all;\n",
       "    font-family: \"Source Code Pro\", \"Menlo\", monospace;;\n",
       "    font-size: 13px;\n",
       "    color: #555;\n",
       "    margin-left: 4px;\n",
       "    line-height: 19px;\n",
       "  }\n",
       "</style>\n",
       "<div class=\"ansiout\"></div>"
      ]
     }
    }
   ],
   "execution_count": 0
  },
  {
   "cell_type": "code",
   "source": [
    "cum_cap_dt = get_model_stats(\"Gradient Boosted Tree\",predict_test,eval_gb,\"patient_nbr\",\"readmit_flag\")"
   ],
   "metadata": {
    "application/vnd.databricks.v1+cell": {
     "showTitle": false,
     "cellMetadata": {
      "rowLimit": 10000,
      "byteLimit": 2048000
     },
     "nuid": "588518da-fdcd-44ae-b09f-c7ea44bef137",
     "inputWidgets": {},
     "title": ""
    }
   },
   "outputs": [
    {
     "output_type": "display_data",
     "metadata": {
      "application/vnd.databricks.v1+output": {
       "datasetInfos": [
        {
         "name": "cum_cap_dt",
         "typeStr": "pyspark.sql.dataframe.DataFrame",
         "schema": {
          "fields": [
           {
            "metadata": {},
            "name": "pctl_cat",
            "nullable": true,
            "type": "long"
           },
           {
            "metadata": {},
            "name": "pctl_target_rate",
            "nullable": true,
            "type": "double"
           },
           {
            "metadata": {},
            "name": "pctl_target_total",
            "nullable": true,
            "type": "long"
           },
           {
            "metadata": {},
            "name": "total_count",
            "nullable": false,
            "type": "long"
           },
           {
            "metadata": {},
            "name": "mean_predicted_prob",
            "nullable": true,
            "type": "double"
           },
           {
            "metadata": {},
            "name": "cum_target",
            "nullable": true,
            "type": "long"
           },
           {
            "metadata": {},
            "name": "cum_total",
            "nullable": true,
            "type": "long"
           },
           {
            "metadata": {},
            "name": "cum_target_cap_rate",
            "nullable": true,
            "type": "double"
           },
           {
            "metadata": {},
            "name": "cum_target_cap_of_total",
            "nullable": true,
            "type": "double"
           }
          ],
          "type": "struct"
         },
         "tableIdentifier": null
        }
       ],
       "data": "<div class=\"ansiout\">Gradient Boosted Tree\nIncidence rate in dataset:  0.11225410067076264\nAUROC:  0.6311239854049069\n</div>",
       "removedWidgets": [],
       "addedWidgets": {},
       "metadata": {},
       "type": "html",
       "arguments": {}
      }
     },
     "data": {
      "text/html": [
       "<style scoped>\n",
       "  .ansiout {\n",
       "    display: block;\n",
       "    unicode-bidi: embed;\n",
       "    white-space: pre-wrap;\n",
       "    word-wrap: break-word;\n",
       "    word-break: break-all;\n",
       "    font-family: \"Source Code Pro\", \"Menlo\", monospace;;\n",
       "    font-size: 13px;\n",
       "    color: #555;\n",
       "    margin-left: 4px;\n",
       "    line-height: 19px;\n",
       "  }\n",
       "</style>\n",
       "<div class=\"ansiout\">Gradient Boosted Tree\n",
       "Incidence rate in dataset:  0.11225410067076264\n",
       "AUROC:  0.6311239854049069\n",
       "</div>"
      ]
     }
    }
   ],
   "execution_count": 0
  },
  {
   "cell_type": "code",
   "source": [
    "display(cum_cap_dt)"
   ],
   "metadata": {
    "application/vnd.databricks.v1+cell": {
     "showTitle": false,
     "cellMetadata": {
      "rowLimit": 10000,
      "byteLimit": 2048000
     },
     "nuid": "1c932fbe-af75-4db8-80d2-1a42efc169f0",
     "inputWidgets": {},
     "title": ""
    }
   },
   "outputs": [
    {
     "output_type": "display_data",
     "metadata": {
      "application/vnd.databricks.v1+output": {
       "overflow": false,
       "datasetInfos": [],
       "data": [
        [
         1,
         0.43380281690140843,
         154,
         355,
         0.43926726453740833,
         154,
         355,
         0.43380281690140843,
         3.8664323374340945
        ],
        [
         2,
         0.27323943661971833,
         97,
         355,
         0.30068187436587374,
         251,
         710,
         0.35352112676056335,
         6.301782575947779
        ],
        [
         3,
         0.2676056338028169,
         95,
         355,
         0.2503071402999717,
         346,
         1065,
         0.3248826291079812,
         8.686919407481799
        ],
        [
         4,
         0.23380281690140844,
         83,
         355,
         0.2338699224129529,
         429,
         1420,
         0.302112676056338,
         10.770775797137835
        ],
        [
         5,
         0.17746478873239438,
         63,
         355,
         0.22355865852933535,
         492,
         1775,
         0.27718309859154927,
         12.35249811699724
        ],
        [
         6,
         0.18926553672316385,
         67,
         354,
         0.2162182504511149,
         559,
         2129,
         0.2625645843118835,
         14.034647250815969
        ],
        [
         7,
         0.19436619718309858,
         69,
         355,
         0.1986581542542283,
         628,
         2484,
         0.2528180354267311,
         15.767009791614361
        ],
        [
         8,
         0.21690140845070421,
         77,
         355,
         0.19419812576871523,
         705,
         2839,
         0.2483268756604438,
         17.70022596033141
        ],
        [
         9,
         0.19718309859154928,
         70,
         355,
         0.19092819224780713,
         775,
         3194,
         0.24264245460237946,
         19.457695204619633
        ],
        [
         10,
         0.21690140845070421,
         77,
         355,
         0.1883669591285813,
         852,
         3549,
         0.2400676246830093,
         21.390911373336678
        ],
        [
         11,
         0.17796610169491525,
         63,
         354,
         0.18627274267922686,
         915,
         3903,
         0.23443504996156803,
         22.972633693196084
        ],
        [
         12,
         0.17183098591549295,
         61,
         355,
         0.18289610281796523,
         976,
         4258,
         0.22921559417566933,
         24.50414260607582
        ],
        [
         13,
         0.15211267605633802,
         54,
         355,
         0.18256226396056968,
         1030,
         4613,
         0.22328202904834166,
         25.85990459452674
        ],
        [
         14,
         0.16056338028169015,
         57,
         355,
         0.17599723292908198,
         1087,
         4968,
         0.21880032206119163,
         27.29098669344715
        ],
        [
         15,
         0.14929577464788732,
         53,
         355,
         0.16732671416141617,
         1140,
         5323,
         0.214164944580124,
         28.621641978408235
        ],
        [
         16,
         0.13559322033898305,
         48,
         354,
         0.1642235815525055,
         1188,
         5677,
         0.20926545710762726,
         29.82676374592016
        ],
        [
         17,
         0.15211267605633802,
         54,
         355,
         0.1642235815525055,
         1242,
         6032,
         0.20590185676392572,
         31.182525734371076
        ],
        [
         18,
         0.14929577464788732,
         53,
         355,
         0.1631523071460321,
         1295,
         6387,
         0.2027555973070299,
         32.51318101933216
        ],
        [
         19,
         0.09859154929577464,
         35,
         355,
         0.16079434706291681,
         1330,
         6742,
         0.19727083951349747,
         33.391915641476274
        ],
        [
         20,
         0.15774647887323945,
         56,
         355,
         0.15929115045238548,
         1386,
         7097,
         0.1952937861068057,
         34.797891036906854
        ],
        [
         21,
         0.13802816901408452,
         49,
         355,
         0.15909028053283691,
         1435,
         7452,
         0.19256575415995705,
         36.02811950790861
        ],
        [
         22,
         0.11016949152542373,
         39,
         354,
         0.15909028053283691,
         1474,
         7806,
         0.18882910581603896,
         37.00728094401205
        ],
        [
         23,
         0.14929577464788732,
         53,
         355,
         0.15782812573540378,
         1527,
         8161,
         0.187109422864845,
         38.337936228973135
        ],
        [
         24,
         0.15492957746478872,
         55,
         355,
         0.15425146734210807,
         1582,
         8516,
         0.18576796618130578,
         39.71880492091388
        ],
        [
         25,
         0.08450704225352113,
         30,
         355,
         0.1494342950028433,
         1612,
         8871,
         0.18171570285198962,
         40.472006025608835
        ],
        [
         26,
         0.10422535211267606,
         37,
         355,
         0.1432872281947606,
         1649,
         9226,
         0.1787340125731628,
         41.400954054732615
        ],
        [
         27,
         0.15254237288135594,
         54,
         354,
         0.1422232836484909,
         1703,
         9580,
         0.1777661795407098,
         42.75671604318353
        ],
        [
         28,
         0.11267605633802817,
         40,
         355,
         0.1422232836484909,
         1743,
         9935,
         0.17544036235530952,
         43.7609841827768
        ],
        [
         29,
         0.12112676056338029,
         43,
         355,
         0.1422232836484909,
         1786,
         10290,
         0.17356656948493684,
         44.84057243283957
        ],
        [
         30,
         0.10985915492957747,
         39,
         355,
         0.1422232836484909,
         1825,
         10645,
         0.17144199154532644,
         45.81973386894301
        ],
        [
         31,
         0.10140845070422536,
         36,
         355,
         0.14151332223079574,
         1861,
         11000,
         0.16918181818181818,
         46.72357519457695
        ],
        [
         32,
         0.12429378531073447,
         44,
         354,
         0.1393486515613599,
         1905,
         11354,
         0.16778227937290824,
         47.82827014812955
        ],
        [
         33,
         0.10704225352112676,
         38,
         355,
         0.13834394208142456,
         1943,
         11709,
         0.16594072935348878,
         48.78232488074316
        ],
        [
         34,
         0.15492957746478872,
         55,
         355,
         0.13762814994429198,
         1998,
         12064,
         0.16561671087533156,
         50.16319357268391
        ],
        [
         35,
         0.12112676056338029,
         43,
         355,
         0.13740688411282823,
         2041,
         12419,
         0.16434495531041146,
         51.24278182274667
        ],
        [
         36,
         0.10704225352112676,
         38,
         355,
         0.1366307881096719,
         2079,
         12774,
         0.16275246594645373,
         52.196836555360285
        ],
        [
         37,
         0.09887005649717515,
         35,
         354,
         0.13649494482972527,
         2114,
         13128,
         0.16102985984156,
         53.075571177504386
        ],
        [
         38,
         0.10704225352112676,
         38,
         355,
         0.13608568612958344,
         2152,
         13483,
         0.1596083957576207,
         54.02962591011801
        ],
        [
         39,
         0.12394366197183099,
         44,
         355,
         0.13557660600668947,
         2196,
         13838,
         0.15869345281109987,
         55.1343208636706
        ],
        [
         40,
         0.10985915492957747,
         39,
         355,
         0.13548468573832176,
         2235,
         14193,
         0.1574719932361023,
         56.11348229977404
        ],
        [
         41,
         0.08732394366197183,
         31,
         355,
         0.1348989901408343,
         2266,
         14548,
         0.15576024195765742,
         56.891790107958826
        ],
        [
         42,
         0.12394366197183099,
         44,
         355,
         0.13310285764680782,
         2310,
         14903,
         0.15500234852043213,
         57.99648506151143
        ],
        [
         43,
         0.12146892655367232,
         43,
         354,
         0.13231358685567554,
         2353,
         15257,
         0.15422429048961134,
         59.0760733115742
        ],
        [
         44,
         0.08450704225352113,
         30,
         355,
         0.13187897238932864,
         2383,
         15612,
         0.1526389956443761,
         59.82927441626914
        ],
        [
         45,
         0.09295774647887324,
         33,
         355,
         0.13110542855632137,
         2416,
         15967,
         0.15131208116740777,
         60.6577956314336
        ],
        [
         46,
         0.10422535211267606,
         37,
         355,
         0.12992929157236932,
         2453,
         16322,
         0.15028795490748684,
         61.58674366055736
        ],
        [
         47,
         0.11267605633802817,
         40,
         355,
         0.1287782352994865,
         2493,
         16677,
         0.149487317862925,
         62.59101180015064
        ],
        [
         48,
         0.11581920903954802,
         41,
         354,
         0.1275876046994985,
         2534,
         17031,
         0.1487875051376901,
         63.620386643233736
        ],
        [
         49,
         0.10985915492957747,
         39,
         355,
         0.12705151426120542,
         2573,
         17386,
         0.14799263775451513,
         64.59954807933718
        ],
        [
         50,
         0.07887323943661972,
         28,
         355,
         0.12654458561413726,
         2601,
         17741,
         0.14660954850346655,
         65.30253577705247
        ],
        [
         51,
         0.11267605633802817,
         40,
         355,
         0.12575041790243605,
         2641,
         18096,
         0.14594385499557913,
         66.30680391664573
        ],
        [
         52,
         0.07605633802816901,
         27,
         355,
         0.1243584779786392,
         2668,
         18451,
         0.1445992087149748,
         66.98468491087121
        ],
        [
         53,
         0.10451977401129943,
         37,
         354,
         0.12267809327544466,
         2705,
         18805,
         0.1438447221483648,
         67.91363293999498
        ],
        [
         54,
         0.10140845070422536,
         36,
         355,
         0.1208128797546239,
         2741,
         19160,
         0.14305845511482254,
         68.81747426562892
        ],
        [
         55,
         0.10422535211267606,
         37,
         355,
         0.1202139888011234,
         2778,
         19515,
         0.1423520368946964,
         69.74642229475269
        ],
        [
         56,
         0.08732394366197183,
         31,
         355,
         0.11958196217745123,
         2809,
         19870,
         0.14136889783593357,
         70.52473010293748
        ],
        [
         57,
         0.15211267605633802,
         54,
         355,
         0.11913188001219656,
         2863,
         20225,
         0.141557478368356,
         71.8804920913884
        ],
        [
         58,
         0.09887005649717515,
         35,
         354,
         0.11887844651937485,
         2898,
         20579,
         0.14082316925020652,
         72.75922671353251
        ],
        [
         59,
         0.10704225352112676,
         38,
         355,
         0.11844636447412867,
         2936,
         20934,
         0.1402503104996656,
         73.71328144614611
        ],
        [
         60,
         0.09859154929577464,
         35,
         355,
         0.1180906891822815,
         2971,
         21289,
         0.1395556390624266,
         74.59201606829023
        ],
        [
         61,
         0.08732394366197183,
         31,
         355,
         0.11787170700623956,
         3002,
         21644,
         0.13869894659027907,
         75.37032387647503
        ],
        [
         62,
         0.11267605633802817,
         40,
         355,
         0.11758836258045384,
         3042,
         21999,
         0.13827901268239465,
         76.37459201606829
        ],
        [
         63,
         0.08732394366197183,
         31,
         355,
         0.1173053179408463,
         3073,
         22354,
         0.13746980406191286,
         77.15289982425307
        ],
        [
         64,
         0.05649717514124294,
         20,
         354,
         0.11692881190591613,
         3093,
         22708,
         0.13620750396336093,
         77.65503389404971
        ],
        [
         65,
         0.07605633802816901,
         27,
         355,
         0.11652567237615585,
         3120,
         23063,
         0.13528161991067944,
         78.33291488827517
        ],
        [
         66,
         0.08450704225352113,
         30,
         355,
         0.11618033643339722,
         3150,
         23418,
         0.1345119139123751,
         79.08611599297012
        ],
        [
         67,
         0.07042253521126761,
         25,
         355,
         0.1153170879458038,
         3175,
         23773,
         0.13355487317545114,
         79.71378358021592
        ],
        [
         68,
         0.10985915492957747,
         39,
         355,
         0.11468218984738202,
         3214,
         24128,
         0.13320623342175067,
         80.69294501631936
        ],
        [
         69,
         0.06779661016949153,
         24,
         354,
         0.11404142695042373,
         3238,
         24482,
         0.13226043623886938,
         81.29550590007531
        ],
        [
         70,
         0.07887323943661972,
         28,
         355,
         0.11378517746925354,
         3266,
         24837,
         0.13149736280549182,
         81.99849359779061
        ],
        [
         71,
         0.0676056338028169,
         24,
         355,
         0.1137360799060741,
         3290,
         25192,
         0.13059701492537312,
         82.60105448154658
        ],
        [
         72,
         0.09577464788732394,
         34,
         355,
         0.11326771964069823,
         3324,
         25547,
         0.130113124828747,
         83.45468240020085
        ],
        [
         73,
         0.08450704225352113,
         30,
         355,
         0.11247629355376874,
         3354,
         25902,
         0.12948807041927266,
         84.2078835048958
        ],
        [
         74,
         0.07909604519774012,
         28,
         354,
         0.11218164208750267,
         3382,
         26256,
         0.12880865326020718,
         84.91087120261109
        ],
        [
         75,
         0.08450704225352113,
         30,
         355,
         0.11185820734416935,
         3412,
         26611,
         0.12821765435346286,
         85.66407230730604
        ],
        [
         76,
         0.08732394366197183,
         31,
         355,
         0.11105589100592574,
         3443,
         26966,
         0.1276792998590818,
         86.44238011549083
        ],
        [
         77,
         0.07042253521126761,
         25,
         355,
         0.10996467284333537,
         3468,
         27321,
         0.12693532447567804,
         87.07004770273663
        ],
        [
         78,
         0.09014084507042254,
         32,
         355,
         0.10879315087493037,
         3500,
         27676,
         0.1264633617574794,
         87.87346221441125
        ],
        [
         79,
         0.0480225988700565,
         17,
         354,
         0.1079872416406028,
         3517,
         28030,
         0.12547270781305744,
         88.3002761737384
        ],
        [
         80,
         0.07605633802816901,
         27,
         355,
         0.10722751506197621,
         3544,
         28385,
         0.12485467676589748,
         88.97815716796384
        ],
        [
         81,
         0.09859154929577464,
         35,
         355,
         0.10692046225910455,
         3579,
         28740,
         0.1245302713987474,
         89.85689179010797
        ],
        [
         82,
         0.05070422535211268,
         18,
         355,
         0.10656080499921046,
         3597,
         29095,
         0.12362948960302457,
         90.30881245292494
        ],
        [
         83,
         0.0676056338028169,
         24,
         355,
         0.10625597280515751,
         3621,
         29450,
         0.12295415959252971,
         90.9113733366809
        ],
        [
         84,
         0.08169014084507042,
         29,
         355,
         0.10600987244659746,
         3650,
         29805,
         0.12246267404797853,
         91.63946773788602
        ],
        [
         85,
         0.07627118644067797,
         27,
         354,
         0.10556438346367097,
         3677,
         30159,
         0.1219204880798435,
         92.31734873211147
        ],
        [
         86,
         0.07042253521126761,
         25,
         355,
         0.10468674665185768,
         3702,
         30514,
         0.12132136068689782,
         92.94501631935726
        ],
        [
         87,
         0.059154929577464786,
         21,
         355,
         0.10353738906937586,
         3723,
         30869,
         0.12060643363892579,
         93.47225709264374
        ],
        [
         88,
         0.05070422535211268,
         18,
         355,
         0.10167467117729322,
         3741,
         31224,
         0.11981168332052268,
         93.9241777554607
        ],
        [
         89,
         0.08450704225352113,
         30,
         355,
         0.10075108058435817,
         3771,
         31579,
         0.1194148009753317,
         94.67737886015566
        ],
        [
         90,
         0.05649717514124294,
         20,
         354,
         0.10021293942032561,
         3791,
         31933,
         0.1187173143769768,
         95.1795129299523
        ],
        [
         91,
         0.0676056338028169,
         24,
         355,
         0.09973032203778415,
         3815,
         32288,
         0.11815535183349851,
         95.78207381370825
        ],
        [
         92,
         0.061971830985915494,
         22,
         355,
         0.09945669184688112,
         3837,
         32643,
         0.11754434335079496,
         96.33442129048456
        ],
        [
         93,
         0.059154929577464786,
         21,
         355,
         0.09929689804852848,
         3858,
         32998,
         0.11691617673798411,
         96.86166206377102
        ],
        [
         94,
         0.059154929577464786,
         21,
         355,
         0.09924628585577011,
         3879,
         33353,
         0.11630138218451114,
         97.38890283705749
        ],
        [
         95,
         0.03672316384180791,
         13,
         354,
         0.09876104781014772,
         3892,
         33707,
         0.11546563028451064,
         97.71528998242532
        ],
        [
         96,
         0.056338028169014086,
         20,
         355,
         0.09847615094671787,
         3912,
         34062,
         0.11484939228465739,
         98.21742405222194
        ],
        [
         97,
         0.04507042253521127,
         16,
         355,
         0.09734984841984762,
         3928,
         34417,
         0.11412964523346021,
         98.61913130805925
        ],
        [
         98,
         0.07323943661971831,
         26,
         355,
         0.09562311321496964,
         3954,
         34772,
         0.11371218221557575,
         99.27190559879487
        ],
        [
         99,
         0.04507042253521127,
         16,
         355,
         0.09359054855057891,
         3970,
         35127,
         0.11301847581632363,
         99.67361285463218
        ],
        [
         100,
         0.036619718309859155,
         13,
         355,
         0.09206705955972135,
         3983,
         35482,
         0.11225410067076264,
         100.0
        ]
       ],
       "plotOptions": {
        "displayType": "table",
        "customPlotOptions": {},
        "pivotColumns": null,
        "pivotAggregation": null,
        "xColumns": null,
        "yColumns": null
       },
       "columnCustomDisplayInfos": {},
       "aggType": "",
       "isJsonSchema": true,
       "removedWidgets": [],
       "aggSchema": [],
       "schema": [
        {
         "name": "pctl_cat",
         "type": "\"long\"",
         "metadata": "{}"
        },
        {
         "name": "pctl_target_rate",
         "type": "\"double\"",
         "metadata": "{}"
        },
        {
         "name": "pctl_target_total",
         "type": "\"long\"",
         "metadata": "{}"
        },
        {
         "name": "total_count",
         "type": "\"long\"",
         "metadata": "{}"
        },
        {
         "name": "mean_predicted_prob",
         "type": "\"double\"",
         "metadata": "{}"
        },
        {
         "name": "cum_target",
         "type": "\"long\"",
         "metadata": "{}"
        },
        {
         "name": "cum_total",
         "type": "\"long\"",
         "metadata": "{}"
        },
        {
         "name": "cum_target_cap_rate",
         "type": "\"double\"",
         "metadata": "{}"
        },
        {
         "name": "cum_target_cap_of_total",
         "type": "\"double\"",
         "metadata": "{}"
        }
       ],
       "aggError": "",
       "aggData": [],
       "addedWidgets": {},
       "metadata": {},
       "dbfsResultPath": null,
       "type": "table",
       "aggOverflow": false,
       "aggSeriesLimitReached": false,
       "arguments": {}
      }
     },
     "data": {
      "text/html": [
       "<style scoped>\n",
       "  .table-result-container {\n",
       "    max-height: 300px;\n",
       "    overflow: auto;\n",
       "  }\n",
       "  table, th, td {\n",
       "    border: 1px solid black;\n",
       "    border-collapse: collapse;\n",
       "  }\n",
       "  th, td {\n",
       "    padding: 5px;\n",
       "  }\n",
       "  th {\n",
       "    text-align: left;\n",
       "  }\n",
       "</style><div class='table-result-container'><table class='table-result'><thead style='background-color: white'><tr><th>pctl_cat</th><th>pctl_target_rate</th><th>pctl_target_total</th><th>total_count</th><th>mean_predicted_prob</th><th>cum_target</th><th>cum_total</th><th>cum_target_cap_rate</th><th>cum_target_cap_of_total</th></tr></thead><tbody><tr><td>1</td><td>0.43380281690140843</td><td>154</td><td>355</td><td>0.43926726453740833</td><td>154</td><td>355</td><td>0.43380281690140843</td><td>3.8664323374340945</td></tr><tr><td>2</td><td>0.27323943661971833</td><td>97</td><td>355</td><td>0.30068187436587374</td><td>251</td><td>710</td><td>0.35352112676056335</td><td>6.301782575947779</td></tr><tr><td>3</td><td>0.2676056338028169</td><td>95</td><td>355</td><td>0.2503071402999717</td><td>346</td><td>1065</td><td>0.3248826291079812</td><td>8.686919407481799</td></tr><tr><td>4</td><td>0.23380281690140844</td><td>83</td><td>355</td><td>0.2338699224129529</td><td>429</td><td>1420</td><td>0.302112676056338</td><td>10.770775797137835</td></tr><tr><td>5</td><td>0.17746478873239438</td><td>63</td><td>355</td><td>0.22355865852933535</td><td>492</td><td>1775</td><td>0.27718309859154927</td><td>12.35249811699724</td></tr><tr><td>6</td><td>0.18926553672316385</td><td>67</td><td>354</td><td>0.2162182504511149</td><td>559</td><td>2129</td><td>0.2625645843118835</td><td>14.034647250815969</td></tr><tr><td>7</td><td>0.19436619718309858</td><td>69</td><td>355</td><td>0.1986581542542283</td><td>628</td><td>2484</td><td>0.2528180354267311</td><td>15.767009791614361</td></tr><tr><td>8</td><td>0.21690140845070421</td><td>77</td><td>355</td><td>0.19419812576871523</td><td>705</td><td>2839</td><td>0.2483268756604438</td><td>17.70022596033141</td></tr><tr><td>9</td><td>0.19718309859154928</td><td>70</td><td>355</td><td>0.19092819224780713</td><td>775</td><td>3194</td><td>0.24264245460237946</td><td>19.457695204619633</td></tr><tr><td>10</td><td>0.21690140845070421</td><td>77</td><td>355</td><td>0.1883669591285813</td><td>852</td><td>3549</td><td>0.2400676246830093</td><td>21.390911373336678</td></tr><tr><td>11</td><td>0.17796610169491525</td><td>63</td><td>354</td><td>0.18627274267922686</td><td>915</td><td>3903</td><td>0.23443504996156803</td><td>22.972633693196084</td></tr><tr><td>12</td><td>0.17183098591549295</td><td>61</td><td>355</td><td>0.18289610281796523</td><td>976</td><td>4258</td><td>0.22921559417566933</td><td>24.50414260607582</td></tr><tr><td>13</td><td>0.15211267605633802</td><td>54</td><td>355</td><td>0.18256226396056968</td><td>1030</td><td>4613</td><td>0.22328202904834166</td><td>25.85990459452674</td></tr><tr><td>14</td><td>0.16056338028169015</td><td>57</td><td>355</td><td>0.17599723292908198</td><td>1087</td><td>4968</td><td>0.21880032206119163</td><td>27.29098669344715</td></tr><tr><td>15</td><td>0.14929577464788732</td><td>53</td><td>355</td><td>0.16732671416141617</td><td>1140</td><td>5323</td><td>0.214164944580124</td><td>28.621641978408235</td></tr><tr><td>16</td><td>0.13559322033898305</td><td>48</td><td>354</td><td>0.1642235815525055</td><td>1188</td><td>5677</td><td>0.20926545710762726</td><td>29.82676374592016</td></tr><tr><td>17</td><td>0.15211267605633802</td><td>54</td><td>355</td><td>0.1642235815525055</td><td>1242</td><td>6032</td><td>0.20590185676392572</td><td>31.182525734371076</td></tr><tr><td>18</td><td>0.14929577464788732</td><td>53</td><td>355</td><td>0.1631523071460321</td><td>1295</td><td>6387</td><td>0.2027555973070299</td><td>32.51318101933216</td></tr><tr><td>19</td><td>0.09859154929577464</td><td>35</td><td>355</td><td>0.16079434706291681</td><td>1330</td><td>6742</td><td>0.19727083951349747</td><td>33.391915641476274</td></tr><tr><td>20</td><td>0.15774647887323945</td><td>56</td><td>355</td><td>0.15929115045238548</td><td>1386</td><td>7097</td><td>0.1952937861068057</td><td>34.797891036906854</td></tr><tr><td>21</td><td>0.13802816901408452</td><td>49</td><td>355</td><td>0.15909028053283691</td><td>1435</td><td>7452</td><td>0.19256575415995705</td><td>36.02811950790861</td></tr><tr><td>22</td><td>0.11016949152542373</td><td>39</td><td>354</td><td>0.15909028053283691</td><td>1474</td><td>7806</td><td>0.18882910581603896</td><td>37.00728094401205</td></tr><tr><td>23</td><td>0.14929577464788732</td><td>53</td><td>355</td><td>0.15782812573540378</td><td>1527</td><td>8161</td><td>0.187109422864845</td><td>38.337936228973135</td></tr><tr><td>24</td><td>0.15492957746478872</td><td>55</td><td>355</td><td>0.15425146734210807</td><td>1582</td><td>8516</td><td>0.18576796618130578</td><td>39.71880492091388</td></tr><tr><td>25</td><td>0.08450704225352113</td><td>30</td><td>355</td><td>0.1494342950028433</td><td>1612</td><td>8871</td><td>0.18171570285198962</td><td>40.472006025608835</td></tr><tr><td>26</td><td>0.10422535211267606</td><td>37</td><td>355</td><td>0.1432872281947606</td><td>1649</td><td>9226</td><td>0.1787340125731628</td><td>41.400954054732615</td></tr><tr><td>27</td><td>0.15254237288135594</td><td>54</td><td>354</td><td>0.1422232836484909</td><td>1703</td><td>9580</td><td>0.1777661795407098</td><td>42.75671604318353</td></tr><tr><td>28</td><td>0.11267605633802817</td><td>40</td><td>355</td><td>0.1422232836484909</td><td>1743</td><td>9935</td><td>0.17544036235530952</td><td>43.7609841827768</td></tr><tr><td>29</td><td>0.12112676056338029</td><td>43</td><td>355</td><td>0.1422232836484909</td><td>1786</td><td>10290</td><td>0.17356656948493684</td><td>44.84057243283957</td></tr><tr><td>30</td><td>0.10985915492957747</td><td>39</td><td>355</td><td>0.1422232836484909</td><td>1825</td><td>10645</td><td>0.17144199154532644</td><td>45.81973386894301</td></tr><tr><td>31</td><td>0.10140845070422536</td><td>36</td><td>355</td><td>0.14151332223079574</td><td>1861</td><td>11000</td><td>0.16918181818181818</td><td>46.72357519457695</td></tr><tr><td>32</td><td>0.12429378531073447</td><td>44</td><td>354</td><td>0.1393486515613599</td><td>1905</td><td>11354</td><td>0.16778227937290824</td><td>47.82827014812955</td></tr><tr><td>33</td><td>0.10704225352112676</td><td>38</td><td>355</td><td>0.13834394208142456</td><td>1943</td><td>11709</td><td>0.16594072935348878</td><td>48.78232488074316</td></tr><tr><td>34</td><td>0.15492957746478872</td><td>55</td><td>355</td><td>0.13762814994429198</td><td>1998</td><td>12064</td><td>0.16561671087533156</td><td>50.16319357268391</td></tr><tr><td>35</td><td>0.12112676056338029</td><td>43</td><td>355</td><td>0.13740688411282823</td><td>2041</td><td>12419</td><td>0.16434495531041146</td><td>51.24278182274667</td></tr><tr><td>36</td><td>0.10704225352112676</td><td>38</td><td>355</td><td>0.1366307881096719</td><td>2079</td><td>12774</td><td>0.16275246594645373</td><td>52.196836555360285</td></tr><tr><td>37</td><td>0.09887005649717515</td><td>35</td><td>354</td><td>0.13649494482972527</td><td>2114</td><td>13128</td><td>0.16102985984156</td><td>53.075571177504386</td></tr><tr><td>38</td><td>0.10704225352112676</td><td>38</td><td>355</td><td>0.13608568612958344</td><td>2152</td><td>13483</td><td>0.1596083957576207</td><td>54.02962591011801</td></tr><tr><td>39</td><td>0.12394366197183099</td><td>44</td><td>355</td><td>0.13557660600668947</td><td>2196</td><td>13838</td><td>0.15869345281109987</td><td>55.1343208636706</td></tr><tr><td>40</td><td>0.10985915492957747</td><td>39</td><td>355</td><td>0.13548468573832176</td><td>2235</td><td>14193</td><td>0.1574719932361023</td><td>56.11348229977404</td></tr><tr><td>41</td><td>0.08732394366197183</td><td>31</td><td>355</td><td>0.1348989901408343</td><td>2266</td><td>14548</td><td>0.15576024195765742</td><td>56.891790107958826</td></tr><tr><td>42</td><td>0.12394366197183099</td><td>44</td><td>355</td><td>0.13310285764680782</td><td>2310</td><td>14903</td><td>0.15500234852043213</td><td>57.99648506151143</td></tr><tr><td>43</td><td>0.12146892655367232</td><td>43</td><td>354</td><td>0.13231358685567554</td><td>2353</td><td>15257</td><td>0.15422429048961134</td><td>59.0760733115742</td></tr><tr><td>44</td><td>0.08450704225352113</td><td>30</td><td>355</td><td>0.13187897238932864</td><td>2383</td><td>15612</td><td>0.1526389956443761</td><td>59.82927441626914</td></tr><tr><td>45</td><td>0.09295774647887324</td><td>33</td><td>355</td><td>0.13110542855632137</td><td>2416</td><td>15967</td><td>0.15131208116740777</td><td>60.6577956314336</td></tr><tr><td>46</td><td>0.10422535211267606</td><td>37</td><td>355</td><td>0.12992929157236932</td><td>2453</td><td>16322</td><td>0.15028795490748684</td><td>61.58674366055736</td></tr><tr><td>47</td><td>0.11267605633802817</td><td>40</td><td>355</td><td>0.1287782352994865</td><td>2493</td><td>16677</td><td>0.149487317862925</td><td>62.59101180015064</td></tr><tr><td>48</td><td>0.11581920903954802</td><td>41</td><td>354</td><td>0.1275876046994985</td><td>2534</td><td>17031</td><td>0.1487875051376901</td><td>63.620386643233736</td></tr><tr><td>49</td><td>0.10985915492957747</td><td>39</td><td>355</td><td>0.12705151426120542</td><td>2573</td><td>17386</td><td>0.14799263775451513</td><td>64.59954807933718</td></tr><tr><td>50</td><td>0.07887323943661972</td><td>28</td><td>355</td><td>0.12654458561413726</td><td>2601</td><td>17741</td><td>0.14660954850346655</td><td>65.30253577705247</td></tr><tr><td>51</td><td>0.11267605633802817</td><td>40</td><td>355</td><td>0.12575041790243605</td><td>2641</td><td>18096</td><td>0.14594385499557913</td><td>66.30680391664573</td></tr><tr><td>52</td><td>0.07605633802816901</td><td>27</td><td>355</td><td>0.1243584779786392</td><td>2668</td><td>18451</td><td>0.1445992087149748</td><td>66.98468491087121</td></tr><tr><td>53</td><td>0.10451977401129943</td><td>37</td><td>354</td><td>0.12267809327544466</td><td>2705</td><td>18805</td><td>0.1438447221483648</td><td>67.91363293999498</td></tr><tr><td>54</td><td>0.10140845070422536</td><td>36</td><td>355</td><td>0.1208128797546239</td><td>2741</td><td>19160</td><td>0.14305845511482254</td><td>68.81747426562892</td></tr><tr><td>55</td><td>0.10422535211267606</td><td>37</td><td>355</td><td>0.1202139888011234</td><td>2778</td><td>19515</td><td>0.1423520368946964</td><td>69.74642229475269</td></tr><tr><td>56</td><td>0.08732394366197183</td><td>31</td><td>355</td><td>0.11958196217745123</td><td>2809</td><td>19870</td><td>0.14136889783593357</td><td>70.52473010293748</td></tr><tr><td>57</td><td>0.15211267605633802</td><td>54</td><td>355</td><td>0.11913188001219656</td><td>2863</td><td>20225</td><td>0.141557478368356</td><td>71.8804920913884</td></tr><tr><td>58</td><td>0.09887005649717515</td><td>35</td><td>354</td><td>0.11887844651937485</td><td>2898</td><td>20579</td><td>0.14082316925020652</td><td>72.75922671353251</td></tr><tr><td>59</td><td>0.10704225352112676</td><td>38</td><td>355</td><td>0.11844636447412867</td><td>2936</td><td>20934</td><td>0.1402503104996656</td><td>73.71328144614611</td></tr><tr><td>60</td><td>0.09859154929577464</td><td>35</td><td>355</td><td>0.1180906891822815</td><td>2971</td><td>21289</td><td>0.1395556390624266</td><td>74.59201606829023</td></tr><tr><td>61</td><td>0.08732394366197183</td><td>31</td><td>355</td><td>0.11787170700623956</td><td>3002</td><td>21644</td><td>0.13869894659027907</td><td>75.37032387647503</td></tr><tr><td>62</td><td>0.11267605633802817</td><td>40</td><td>355</td><td>0.11758836258045384</td><td>3042</td><td>21999</td><td>0.13827901268239465</td><td>76.37459201606829</td></tr><tr><td>63</td><td>0.08732394366197183</td><td>31</td><td>355</td><td>0.1173053179408463</td><td>3073</td><td>22354</td><td>0.13746980406191286</td><td>77.15289982425307</td></tr><tr><td>64</td><td>0.05649717514124294</td><td>20</td><td>354</td><td>0.11692881190591613</td><td>3093</td><td>22708</td><td>0.13620750396336093</td><td>77.65503389404971</td></tr><tr><td>65</td><td>0.07605633802816901</td><td>27</td><td>355</td><td>0.11652567237615585</td><td>3120</td><td>23063</td><td>0.13528161991067944</td><td>78.33291488827517</td></tr><tr><td>66</td><td>0.08450704225352113</td><td>30</td><td>355</td><td>0.11618033643339722</td><td>3150</td><td>23418</td><td>0.1345119139123751</td><td>79.08611599297012</td></tr><tr><td>67</td><td>0.07042253521126761</td><td>25</td><td>355</td><td>0.1153170879458038</td><td>3175</td><td>23773</td><td>0.13355487317545114</td><td>79.71378358021592</td></tr><tr><td>68</td><td>0.10985915492957747</td><td>39</td><td>355</td><td>0.11468218984738202</td><td>3214</td><td>24128</td><td>0.13320623342175067</td><td>80.69294501631936</td></tr><tr><td>69</td><td>0.06779661016949153</td><td>24</td><td>354</td><td>0.11404142695042373</td><td>3238</td><td>24482</td><td>0.13226043623886938</td><td>81.29550590007531</td></tr><tr><td>70</td><td>0.07887323943661972</td><td>28</td><td>355</td><td>0.11378517746925354</td><td>3266</td><td>24837</td><td>0.13149736280549182</td><td>81.99849359779061</td></tr><tr><td>71</td><td>0.0676056338028169</td><td>24</td><td>355</td><td>0.1137360799060741</td><td>3290</td><td>25192</td><td>0.13059701492537312</td><td>82.60105448154658</td></tr><tr><td>72</td><td>0.09577464788732394</td><td>34</td><td>355</td><td>0.11326771964069823</td><td>3324</td><td>25547</td><td>0.130113124828747</td><td>83.45468240020085</td></tr><tr><td>73</td><td>0.08450704225352113</td><td>30</td><td>355</td><td>0.11247629355376874</td><td>3354</td><td>25902</td><td>0.12948807041927266</td><td>84.2078835048958</td></tr><tr><td>74</td><td>0.07909604519774012</td><td>28</td><td>354</td><td>0.11218164208750267</td><td>3382</td><td>26256</td><td>0.12880865326020718</td><td>84.91087120261109</td></tr><tr><td>75</td><td>0.08450704225352113</td><td>30</td><td>355</td><td>0.11185820734416935</td><td>3412</td><td>26611</td><td>0.12821765435346286</td><td>85.66407230730604</td></tr><tr><td>76</td><td>0.08732394366197183</td><td>31</td><td>355</td><td>0.11105589100592574</td><td>3443</td><td>26966</td><td>0.1276792998590818</td><td>86.44238011549083</td></tr><tr><td>77</td><td>0.07042253521126761</td><td>25</td><td>355</td><td>0.10996467284333537</td><td>3468</td><td>27321</td><td>0.12693532447567804</td><td>87.07004770273663</td></tr><tr><td>78</td><td>0.09014084507042254</td><td>32</td><td>355</td><td>0.10879315087493037</td><td>3500</td><td>27676</td><td>0.1264633617574794</td><td>87.87346221441125</td></tr><tr><td>79</td><td>0.0480225988700565</td><td>17</td><td>354</td><td>0.1079872416406028</td><td>3517</td><td>28030</td><td>0.12547270781305744</td><td>88.3002761737384</td></tr><tr><td>80</td><td>0.07605633802816901</td><td>27</td><td>355</td><td>0.10722751506197621</td><td>3544</td><td>28385</td><td>0.12485467676589748</td><td>88.97815716796384</td></tr><tr><td>81</td><td>0.09859154929577464</td><td>35</td><td>355</td><td>0.10692046225910455</td><td>3579</td><td>28740</td><td>0.1245302713987474</td><td>89.85689179010797</td></tr><tr><td>82</td><td>0.05070422535211268</td><td>18</td><td>355</td><td>0.10656080499921046</td><td>3597</td><td>29095</td><td>0.12362948960302457</td><td>90.30881245292494</td></tr><tr><td>83</td><td>0.0676056338028169</td><td>24</td><td>355</td><td>0.10625597280515751</td><td>3621</td><td>29450</td><td>0.12295415959252971</td><td>90.9113733366809</td></tr><tr><td>84</td><td>0.08169014084507042</td><td>29</td><td>355</td><td>0.10600987244659746</td><td>3650</td><td>29805</td><td>0.12246267404797853</td><td>91.63946773788602</td></tr><tr><td>85</td><td>0.07627118644067797</td><td>27</td><td>354</td><td>0.10556438346367097</td><td>3677</td><td>30159</td><td>0.1219204880798435</td><td>92.31734873211147</td></tr><tr><td>86</td><td>0.07042253521126761</td><td>25</td><td>355</td><td>0.10468674665185768</td><td>3702</td><td>30514</td><td>0.12132136068689782</td><td>92.94501631935726</td></tr><tr><td>87</td><td>0.059154929577464786</td><td>21</td><td>355</td><td>0.10353738906937586</td><td>3723</td><td>30869</td><td>0.12060643363892579</td><td>93.47225709264374</td></tr><tr><td>88</td><td>0.05070422535211268</td><td>18</td><td>355</td><td>0.10167467117729322</td><td>3741</td><td>31224</td><td>0.11981168332052268</td><td>93.9241777554607</td></tr><tr><td>89</td><td>0.08450704225352113</td><td>30</td><td>355</td><td>0.10075108058435817</td><td>3771</td><td>31579</td><td>0.1194148009753317</td><td>94.67737886015566</td></tr><tr><td>90</td><td>0.05649717514124294</td><td>20</td><td>354</td><td>0.10021293942032561</td><td>3791</td><td>31933</td><td>0.1187173143769768</td><td>95.1795129299523</td></tr><tr><td>91</td><td>0.0676056338028169</td><td>24</td><td>355</td><td>0.09973032203778415</td><td>3815</td><td>32288</td><td>0.11815535183349851</td><td>95.78207381370825</td></tr><tr><td>92</td><td>0.061971830985915494</td><td>22</td><td>355</td><td>0.09945669184688112</td><td>3837</td><td>32643</td><td>0.11754434335079496</td><td>96.33442129048456</td></tr><tr><td>93</td><td>0.059154929577464786</td><td>21</td><td>355</td><td>0.09929689804852848</td><td>3858</td><td>32998</td><td>0.11691617673798411</td><td>96.86166206377102</td></tr><tr><td>94</td><td>0.059154929577464786</td><td>21</td><td>355</td><td>0.09924628585577011</td><td>3879</td><td>33353</td><td>0.11630138218451114</td><td>97.38890283705749</td></tr><tr><td>95</td><td>0.03672316384180791</td><td>13</td><td>354</td><td>0.09876104781014772</td><td>3892</td><td>33707</td><td>0.11546563028451064</td><td>97.71528998242532</td></tr><tr><td>96</td><td>0.056338028169014086</td><td>20</td><td>355</td><td>0.09847615094671787</td><td>3912</td><td>34062</td><td>0.11484939228465739</td><td>98.21742405222194</td></tr><tr><td>97</td><td>0.04507042253521127</td><td>16</td><td>355</td><td>0.09734984841984762</td><td>3928</td><td>34417</td><td>0.11412964523346021</td><td>98.61913130805925</td></tr><tr><td>98</td><td>0.07323943661971831</td><td>26</td><td>355</td><td>0.09562311321496964</td><td>3954</td><td>34772</td><td>0.11371218221557575</td><td>99.27190559879487</td></tr><tr><td>99</td><td>0.04507042253521127</td><td>16</td><td>355</td><td>0.09359054855057891</td><td>3970</td><td>35127</td><td>0.11301847581632363</td><td>99.67361285463218</td></tr><tr><td>100</td><td>0.036619718309859155</td><td>13</td><td>355</td><td>0.09206705955972135</td><td>3983</td><td>35482</td><td>0.11225410067076264</td><td>100.0</td></tr></tbody></table></div>"
      ]
     }
    }
   ],
   "execution_count": 0
  }
 ],
 "metadata": {
  "application/vnd.databricks.v1+notebook": {
   "notebookName": "Diabetes Readmission modelling using Gradient Boosted Tree model",
   "dashboards": [],
   "notebookMetadata": {
    "pythonIndentUnit": 2,
    "mostRecentlyExecutedCommandWithImplicitDF": {
     "commandId": 4107560357685426,
     "dataframes": [
      "_sqldf"
     ]
    }
   },
   "language": "python",
   "widgets": {}
  }
 },
 "nbformat": 4,
 "nbformat_minor": 0
}
