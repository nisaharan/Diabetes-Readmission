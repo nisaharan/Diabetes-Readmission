{
 "cells": [
  {
   "cell_type": "markdown",
   "source": [
    "# Diabetes Readmission modelling using Decission Trees"
   ],
   "metadata": {
    "application/vnd.databricks.v1+cell": {
     "showTitle": false,
     "cellMetadata": {},
     "nuid": "a627be25-9fcd-4b57-84d1-c9f11a155876",
     "inputWidgets": {},
     "title": ""
    }
   }
  },
  {
   "cell_type": "code",
   "source": [
    "# Data processing\n",
    "from pyspark.sql.functions import log, col, exp\n",
    "\n",
    "# Modeling\n",
    "from pyspark.ml.feature import VectorAssembler\n",
    "from pyspark.ml.classification import DecisionTreeClassifier\n",
    "from pyspark.ml.evaluation import BinaryClassificationEvaluator\n"
   ],
   "metadata": {
    "application/vnd.databricks.v1+cell": {
     "showTitle": false,
     "cellMetadata": {
      "rowLimit": 10000,
      "byteLimit": 2048000
     },
     "nuid": "3c72ddea-d6b7-426b-bed6-861fb814ff4b",
     "inputWidgets": {},
     "title": ""
    }
   },
   "outputs": [
    {
     "output_type": "display_data",
     "metadata": {
      "application/vnd.databricks.v1+output": {
       "datasetInfos": [],
       "data": "<div class=\"ansiout\"></div>",
       "removedWidgets": [],
       "addedWidgets": {},
       "metadata": {},
       "type": "html",
       "arguments": {}
      }
     },
     "data": {
      "text/html": [
       "<style scoped>\n",
       "  .ansiout {\n",
       "    display: block;\n",
       "    unicode-bidi: embed;\n",
       "    white-space: pre-wrap;\n",
       "    word-wrap: break-word;\n",
       "    word-break: break-all;\n",
       "    font-family: \"Source Code Pro\", \"Menlo\", monospace;;\n",
       "    font-size: 13px;\n",
       "    color: #555;\n",
       "    margin-left: 4px;\n",
       "    line-height: 19px;\n",
       "  }\n",
       "</style>\n",
       "<div class=\"ansiout\"></div>"
      ]
     }
    }
   ],
   "execution_count": 0
  },
  {
   "cell_type": "code",
   "source": [
    "diabetes_readmit = spark.read.table(\"diab_readmit_csv\")\n",
    "write_path = 'dbfs:/tmp/reproducible_ml_uofl/diab_readmit_csv.delta'\n",
    "diabetes_readmit.write.format('delta').mode('overwrite').save(write_path)"
   ],
   "metadata": {
    "application/vnd.databricks.v1+cell": {
     "showTitle": false,
     "cellMetadata": {
      "rowLimit": 10000,
      "byteLimit": 2048000
     },
     "nuid": "42e92a29-ba49-4de2-ab96-467edd19b38b",
     "inputWidgets": {},
     "title": ""
    }
   },
   "outputs": [
    {
     "output_type": "display_data",
     "metadata": {
      "application/vnd.databricks.v1+output": {
       "datasetInfos": [
        {
         "name": "diabetes_readmit",
         "typeStr": "pyspark.sql.dataframe.DataFrame",
         "schema": {
          "fields": [
           {
            "metadata": {},
            "name": "patient_nbr",
            "nullable": true,
            "type": "integer"
           },
           {
            "metadata": {},
            "name": "time_in_hospital",
            "nullable": true,
            "type": "integer"
           },
           {
            "metadata": {},
            "name": "num_procedures",
            "nullable": true,
            "type": "integer"
           },
           {
            "metadata": {},
            "name": "num_lab_procedures",
            "nullable": true,
            "type": "integer"
           },
           {
            "metadata": {},
            "name": "num_medications",
            "nullable": true,
            "type": "integer"
           },
           {
            "metadata": {},
            "name": "number_outpatient",
            "nullable": true,
            "type": "integer"
           },
           {
            "metadata": {},
            "name": "number_inpatient",
            "nullable": true,
            "type": "integer"
           },
           {
            "metadata": {},
            "name": "number_emergency",
            "nullable": true,
            "type": "integer"
           },
           {
            "metadata": {},
            "name": "number_diagnoses",
            "nullable": true,
            "type": "integer"
           },
           {
            "metadata": {},
            "name": "gender_cd",
            "nullable": true,
            "type": "integer"
           },
           {
            "metadata": {},
            "name": "DiabetesMedication",
            "nullable": true,
            "type": "integer"
           },
           {
            "metadata": {},
            "name": "readmit_flag",
            "nullable": true,
            "type": "integer"
           },
           {
            "metadata": {},
            "name": "race_cd",
            "nullable": true,
            "type": "string"
           }
          ],
          "type": "struct"
         },
         "tableIdentifier": null
        }
       ],
       "data": "<div class=\"ansiout\"></div>",
       "removedWidgets": [],
       "addedWidgets": {},
       "metadata": {},
       "type": "html",
       "arguments": {}
      }
     },
     "data": {
      "text/html": [
       "<style scoped>\n",
       "  .ansiout {\n",
       "    display: block;\n",
       "    unicode-bidi: embed;\n",
       "    white-space: pre-wrap;\n",
       "    word-wrap: break-word;\n",
       "    word-break: break-all;\n",
       "    font-family: \"Source Code Pro\", \"Menlo\", monospace;;\n",
       "    font-size: 13px;\n",
       "    color: #555;\n",
       "    margin-left: 4px;\n",
       "    line-height: 19px;\n",
       "  }\n",
       "</style>\n",
       "<div class=\"ansiout\"></div>"
      ]
     }
    }
   ],
   "execution_count": 0
  },
  {
   "cell_type": "code",
   "source": [
    "diabetes_readmit = spark.read.format('delta').load(write_path)\n",
    "\n",
    "#Show basic summary stats\n",
    "display(diabetes_readmit.summary())"
   ],
   "metadata": {
    "application/vnd.databricks.v1+cell": {
     "showTitle": false,
     "cellMetadata": {
      "rowLimit": 10000,
      "byteLimit": 2048000
     },
     "nuid": "4289a9df-f411-4407-ad10-c6731890fb92",
     "inputWidgets": {},
     "title": ""
    }
   },
   "outputs": [
    {
     "output_type": "display_data",
     "metadata": {
      "application/vnd.databricks.v1+output": {
       "overflow": false,
       "datasetInfos": [
        {
         "name": "diabetes_readmit",
         "typeStr": "pyspark.sql.dataframe.DataFrame",
         "schema": {
          "fields": [
           {
            "metadata": {},
            "name": "patient_nbr",
            "nullable": true,
            "type": "integer"
           },
           {
            "metadata": {},
            "name": "time_in_hospital",
            "nullable": true,
            "type": "integer"
           },
           {
            "metadata": {},
            "name": "num_procedures",
            "nullable": true,
            "type": "integer"
           },
           {
            "metadata": {},
            "name": "num_lab_procedures",
            "nullable": true,
            "type": "integer"
           },
           {
            "metadata": {},
            "name": "num_medications",
            "nullable": true,
            "type": "integer"
           },
           {
            "metadata": {},
            "name": "number_outpatient",
            "nullable": true,
            "type": "integer"
           },
           {
            "metadata": {},
            "name": "number_inpatient",
            "nullable": true,
            "type": "integer"
           },
           {
            "metadata": {},
            "name": "number_emergency",
            "nullable": true,
            "type": "integer"
           },
           {
            "metadata": {},
            "name": "number_diagnoses",
            "nullable": true,
            "type": "integer"
           },
           {
            "metadata": {},
            "name": "gender_cd",
            "nullable": true,
            "type": "integer"
           },
           {
            "metadata": {},
            "name": "DiabetesMedication",
            "nullable": true,
            "type": "integer"
           },
           {
            "metadata": {},
            "name": "readmit_flag",
            "nullable": true,
            "type": "integer"
           },
           {
            "metadata": {},
            "name": "race_cd",
            "nullable": true,
            "type": "string"
           }
          ],
          "type": "struct"
         },
         "tableIdentifier": "dbfs:/tmp/reproducible_ml_uofl/diab_readmit_csv.delta"
        }
       ],
       "data": [
        [
         "count",
         "101766",
         "101766",
         "101766",
         "101766",
         "101766",
         "101766",
         "101766",
         "101766",
         "101766",
         "101766",
         "101766",
         "101766",
         "101766"
        ],
        [
         "mean",
         "5.4330400694947235E7",
         "4.395986871843248",
         "1.339730361810428",
         "43.09564098028811",
         "16.021844230882614",
         "0.36935715268360747",
         "0.635565906098304",
         "0.19783621248747127",
         "7.422606764538254",
         "0.5375862272271682",
         "0.7700312481575379",
         "0.11159915885462728",
         null
        ],
        [
         "stddev",
         "3.869635934653421E7",
         "2.985107767471267",
         "1.705806979121172",
         "19.674362249142096",
         "8.127566209167309",
         "1.2672650965326817",
         "1.26286329009732",
         "0.9304722684224632",
         "1.9336001449974247",
         "0.49858772375671534",
         "0.420814525814695",
         "0.3148741984505526",
         null
        ],
        [
         "min",
         "135",
         "1",
         "0",
         "1",
         "1",
         "0",
         "0",
         "0",
         "1",
         "0",
         "0",
         "0",
         "AfrAmr"
        ],
        [
         "25%",
         "23412645",
         "2",
         "0",
         "31",
         "10",
         "0",
         "0",
         "0",
         "6",
         "0",
         "1",
         "0",
         null
        ],
        [
         "50%",
         "45500490",
         "4",
         "1",
         "44",
         "15",
         "0",
         "0",
         "0",
         "8",
         "1",
         "1",
         "0",
         null
        ],
        [
         "75%",
         "87532902",
         "6",
         "2",
         "57",
         "20",
         "0",
         "1",
         "0",
         "9",
         "1",
         "1",
         "0",
         null
        ],
        [
         "max",
         "189502619",
         "14",
         "6",
         "132",
         "81",
         "42",
         "21",
         "76",
         "16",
         "1",
         "1",
         "1",
         "White"
        ]
       ],
       "plotOptions": {
        "displayType": "table",
        "customPlotOptions": {},
        "pivotColumns": null,
        "pivotAggregation": null,
        "xColumns": null,
        "yColumns": null
       },
       "columnCustomDisplayInfos": {},
       "aggType": "",
       "isJsonSchema": true,
       "removedWidgets": [],
       "aggSchema": [],
       "schema": [
        {
         "name": "summary",
         "type": "\"string\"",
         "metadata": "{}"
        },
        {
         "name": "patient_nbr",
         "type": "\"string\"",
         "metadata": "{}"
        },
        {
         "name": "time_in_hospital",
         "type": "\"string\"",
         "metadata": "{}"
        },
        {
         "name": "num_procedures",
         "type": "\"string\"",
         "metadata": "{}"
        },
        {
         "name": "num_lab_procedures",
         "type": "\"string\"",
         "metadata": "{}"
        },
        {
         "name": "num_medications",
         "type": "\"string\"",
         "metadata": "{}"
        },
        {
         "name": "number_outpatient",
         "type": "\"string\"",
         "metadata": "{}"
        },
        {
         "name": "number_inpatient",
         "type": "\"string\"",
         "metadata": "{}"
        },
        {
         "name": "number_emergency",
         "type": "\"string\"",
         "metadata": "{}"
        },
        {
         "name": "number_diagnoses",
         "type": "\"string\"",
         "metadata": "{}"
        },
        {
         "name": "gender_cd",
         "type": "\"string\"",
         "metadata": "{}"
        },
        {
         "name": "DiabetesMedication",
         "type": "\"string\"",
         "metadata": "{}"
        },
        {
         "name": "readmit_flag",
         "type": "\"string\"",
         "metadata": "{}"
        },
        {
         "name": "race_cd",
         "type": "\"string\"",
         "metadata": "{}"
        }
       ],
       "aggError": "",
       "aggData": [],
       "addedWidgets": {},
       "metadata": {},
       "dbfsResultPath": null,
       "type": "table",
       "aggOverflow": false,
       "aggSeriesLimitReached": false,
       "arguments": {}
      }
     },
     "data": {
      "text/html": [
       "<style scoped>\n",
       "  .table-result-container {\n",
       "    max-height: 300px;\n",
       "    overflow: auto;\n",
       "  }\n",
       "  table, th, td {\n",
       "    border: 1px solid black;\n",
       "    border-collapse: collapse;\n",
       "  }\n",
       "  th, td {\n",
       "    padding: 5px;\n",
       "  }\n",
       "  th {\n",
       "    text-align: left;\n",
       "  }\n",
       "</style><div class='table-result-container'><table class='table-result'><thead style='background-color: white'><tr><th>summary</th><th>patient_nbr</th><th>time_in_hospital</th><th>num_procedures</th><th>num_lab_procedures</th><th>num_medications</th><th>number_outpatient</th><th>number_inpatient</th><th>number_emergency</th><th>number_diagnoses</th><th>gender_cd</th><th>DiabetesMedication</th><th>readmit_flag</th><th>race_cd</th></tr></thead><tbody><tr><td>count</td><td>101766</td><td>101766</td><td>101766</td><td>101766</td><td>101766</td><td>101766</td><td>101766</td><td>101766</td><td>101766</td><td>101766</td><td>101766</td><td>101766</td><td>101766</td></tr><tr><td>mean</td><td>5.4330400694947235E7</td><td>4.395986871843248</td><td>1.339730361810428</td><td>43.09564098028811</td><td>16.021844230882614</td><td>0.36935715268360747</td><td>0.635565906098304</td><td>0.19783621248747127</td><td>7.422606764538254</td><td>0.5375862272271682</td><td>0.7700312481575379</td><td>0.11159915885462728</td><td>null</td></tr><tr><td>stddev</td><td>3.869635934653421E7</td><td>2.985107767471267</td><td>1.705806979121172</td><td>19.674362249142096</td><td>8.127566209167309</td><td>1.2672650965326817</td><td>1.26286329009732</td><td>0.9304722684224632</td><td>1.9336001449974247</td><td>0.49858772375671534</td><td>0.420814525814695</td><td>0.3148741984505526</td><td>null</td></tr><tr><td>min</td><td>135</td><td>1</td><td>0</td><td>1</td><td>1</td><td>0</td><td>0</td><td>0</td><td>1</td><td>0</td><td>0</td><td>0</td><td>AfrAmr</td></tr><tr><td>25%</td><td>23412645</td><td>2</td><td>0</td><td>31</td><td>10</td><td>0</td><td>0</td><td>0</td><td>6</td><td>0</td><td>1</td><td>0</td><td>null</td></tr><tr><td>50%</td><td>45500490</td><td>4</td><td>1</td><td>44</td><td>15</td><td>0</td><td>0</td><td>0</td><td>8</td><td>1</td><td>1</td><td>0</td><td>null</td></tr><tr><td>75%</td><td>87532902</td><td>6</td><td>2</td><td>57</td><td>20</td><td>0</td><td>1</td><td>0</td><td>9</td><td>1</td><td>1</td><td>0</td><td>null</td></tr><tr><td>max</td><td>189502619</td><td>14</td><td>6</td><td>132</td><td>81</td><td>42</td><td>21</td><td>76</td><td>16</td><td>1</td><td>1</td><td>1</td><td>White</td></tr></tbody></table></div>"
      ]
     }
    }
   ],
   "execution_count": 0
  },
  {
   "cell_type": "code",
   "source": [
    "# Train test split\n",
    "trainDF, testDF = diabetes_readmit.randomSplit([.65, .35], seed=42)\n",
    "# Print the number of records\n",
    "print(f'There are {trainDF.cache().count()} records in the training dataset.')\n",
    "print(f'There are {testDF.cache().count()} records in the testing dataset.')"
   ],
   "metadata": {
    "application/vnd.databricks.v1+cell": {
     "showTitle": false,
     "cellMetadata": {
      "rowLimit": 10000,
      "byteLimit": 2048000
     },
     "nuid": "cbca723d-70fc-46d9-b996-cb36638f4b6d",
     "inputWidgets": {},
     "title": ""
    }
   },
   "outputs": [
    {
     "output_type": "display_data",
     "metadata": {
      "application/vnd.databricks.v1+output": {
       "datasetInfos": [
        {
         "name": "trainDF",
         "typeStr": "pyspark.sql.dataframe.DataFrame",
         "schema": {
          "fields": [
           {
            "metadata": {},
            "name": "patient_nbr",
            "nullable": true,
            "type": "integer"
           },
           {
            "metadata": {},
            "name": "time_in_hospital",
            "nullable": true,
            "type": "integer"
           },
           {
            "metadata": {},
            "name": "num_procedures",
            "nullable": true,
            "type": "integer"
           },
           {
            "metadata": {},
            "name": "num_lab_procedures",
            "nullable": true,
            "type": "integer"
           },
           {
            "metadata": {},
            "name": "num_medications",
            "nullable": true,
            "type": "integer"
           },
           {
            "metadata": {},
            "name": "number_outpatient",
            "nullable": true,
            "type": "integer"
           },
           {
            "metadata": {},
            "name": "number_inpatient",
            "nullable": true,
            "type": "integer"
           },
           {
            "metadata": {},
            "name": "number_emergency",
            "nullable": true,
            "type": "integer"
           },
           {
            "metadata": {},
            "name": "number_diagnoses",
            "nullable": true,
            "type": "integer"
           },
           {
            "metadata": {},
            "name": "gender_cd",
            "nullable": true,
            "type": "integer"
           },
           {
            "metadata": {},
            "name": "DiabetesMedication",
            "nullable": true,
            "type": "integer"
           },
           {
            "metadata": {},
            "name": "readmit_flag",
            "nullable": true,
            "type": "integer"
           },
           {
            "metadata": {},
            "name": "race_cd",
            "nullable": true,
            "type": "string"
           }
          ],
          "type": "struct"
         },
         "tableIdentifier": null
        },
        {
         "name": "testDF",
         "typeStr": "pyspark.sql.dataframe.DataFrame",
         "schema": {
          "fields": [
           {
            "metadata": {},
            "name": "patient_nbr",
            "nullable": true,
            "type": "integer"
           },
           {
            "metadata": {},
            "name": "time_in_hospital",
            "nullable": true,
            "type": "integer"
           },
           {
            "metadata": {},
            "name": "num_procedures",
            "nullable": true,
            "type": "integer"
           },
           {
            "metadata": {},
            "name": "num_lab_procedures",
            "nullable": true,
            "type": "integer"
           },
           {
            "metadata": {},
            "name": "num_medications",
            "nullable": true,
            "type": "integer"
           },
           {
            "metadata": {},
            "name": "number_outpatient",
            "nullable": true,
            "type": "integer"
           },
           {
            "metadata": {},
            "name": "number_inpatient",
            "nullable": true,
            "type": "integer"
           },
           {
            "metadata": {},
            "name": "number_emergency",
            "nullable": true,
            "type": "integer"
           },
           {
            "metadata": {},
            "name": "number_diagnoses",
            "nullable": true,
            "type": "integer"
           },
           {
            "metadata": {},
            "name": "gender_cd",
            "nullable": true,
            "type": "integer"
           },
           {
            "metadata": {},
            "name": "DiabetesMedication",
            "nullable": true,
            "type": "integer"
           },
           {
            "metadata": {},
            "name": "readmit_flag",
            "nullable": true,
            "type": "integer"
           },
           {
            "metadata": {},
            "name": "race_cd",
            "nullable": true,
            "type": "string"
           }
          ],
          "type": "struct"
         },
         "tableIdentifier": null
        }
       ],
       "data": "<div class=\"ansiout\">There are 66284 records in the training dataset.\nThere are 35482 records in the testing dataset.\n</div>",
       "removedWidgets": [],
       "addedWidgets": {},
       "metadata": {},
       "type": "html",
       "arguments": {}
      }
     },
     "data": {
      "text/html": [
       "<style scoped>\n",
       "  .ansiout {\n",
       "    display: block;\n",
       "    unicode-bidi: embed;\n",
       "    white-space: pre-wrap;\n",
       "    word-wrap: break-word;\n",
       "    word-break: break-all;\n",
       "    font-family: \"Source Code Pro\", \"Menlo\", monospace;;\n",
       "    font-size: 13px;\n",
       "    color: #555;\n",
       "    margin-left: 4px;\n",
       "    line-height: 19px;\n",
       "  }\n",
       "</style>\n",
       "<div class=\"ansiout\">There are 66284 records in the training dataset.\n",
       "There are 35482 records in the testing dataset.\n",
       "</div>"
      ]
     }
    }
   ],
   "execution_count": 0
  },
  {
   "cell_type": "code",
   "source": [
    "#One hot encoding of string feature Region\n",
    "trainDF.groupBy('race_cd').count().show()"
   ],
   "metadata": {
    "application/vnd.databricks.v1+cell": {
     "showTitle": false,
     "cellMetadata": {
      "rowLimit": 10000,
      "byteLimit": 2048000
     },
     "nuid": "4c55f571-4694-4f39-8693-fc6bf9a83871",
     "inputWidgets": {},
     "title": ""
    }
   },
   "outputs": [
    {
     "output_type": "display_data",
     "metadata": {
      "application/vnd.databricks.v1+output": {
       "datasetInfos": [],
       "data": "<div class=\"ansiout\">+--------+-----+\n| race_cd|count|\n+--------+-----+\n|     Unk| 2472|\n|  AfrAmr|12558|\n|   White|49512|\n|Hispanic| 1326|\n|   Asian|  416|\n+--------+-----+\n\n</div>",
       "removedWidgets": [],
       "addedWidgets": {},
       "metadata": {},
       "type": "html",
       "arguments": {}
      }
     },
     "data": {
      "text/html": [
       "<style scoped>\n",
       "  .ansiout {\n",
       "    display: block;\n",
       "    unicode-bidi: embed;\n",
       "    white-space: pre-wrap;\n",
       "    word-wrap: break-word;\n",
       "    word-break: break-all;\n",
       "    font-family: \"Source Code Pro\", \"Menlo\", monospace;;\n",
       "    font-size: 13px;\n",
       "    color: #555;\n",
       "    margin-left: 4px;\n",
       "    line-height: 19px;\n",
       "  }\n",
       "</style>\n",
       "<div class=\"ansiout\">+--------+-----+\n",
       " race_cd|count|\n",
       "+--------+-----+\n",
       "     Unk| 2472|\n",
       "  AfrAmr|12558|\n",
       "   White|49512|\n",
       "Hispanic| 1326|\n",
       "   Asian|  416|\n",
       "+--------+-----+\n",
       "\n",
       "</div>"
      ]
     }
    }
   ],
   "execution_count": 0
  },
  {
   "cell_type": "markdown",
   "source": [
    "##Now we need to modify the categorical variable race_cd into one-hot-encoded version\n",
    " For this we will use a pipeline to do this in one step"
   ],
   "metadata": {
    "application/vnd.databricks.v1+cell": {
     "showTitle": false,
     "cellMetadata": {
      "rowLimit": 10000,
      "byteLimit": 2048000
     },
     "nuid": "49346026-09ef-4c39-99d4-cbec017e789e",
     "inputWidgets": {},
     "title": ""
    }
   }
  },
  {
   "cell_type": "code",
   "source": [
    "#You can also create a pipeline and do everything together in one easy fit and transform step\n",
    "from pyspark.ml import Pipeline\n",
    "from pyspark.ml.feature import StringIndexer, VectorAssembler\n",
    " \n",
    "categoricalColumns = [\"race_cd\"]\n",
    "stages = [] # stages in Pipeline\n",
    "for categoricalCol in categoricalColumns:\n",
    "    # Category Indexing with StringIndexer\n",
    "    stringIndexer = StringIndexer(inputCol=categoricalCol, outputCol=categoricalCol + \"Index\")\n",
    "    \n",
    "# Use OneHotEncoder to convert categorical variables into binary SparseVectors\n",
    "from pyspark.ml.feature import OneHotEncoder\n",
    "encoder = OneHotEncoder(inputCols=[stringIndexer.getOutputCol()], outputCols=[categoricalCol + \"classVec\"])\n",
    "\n",
    "# Define the pipeline based on the stages created in previous steps.\n",
    "pipeline = Pipeline(stages=[stringIndexer, encoder])\n",
    " \n",
    "# Define the pipeline model.\n",
    "transform_mdl = pipeline.fit(trainDF)\n",
    "trainDF21=transform_mdl.transform(trainDF)\n",
    "trainDF21.show()"
   ],
   "metadata": {
    "application/vnd.databricks.v1+cell": {
     "showTitle": false,
     "cellMetadata": {
      "rowLimit": 10000,
      "byteLimit": 2048000
     },
     "nuid": "c1805ce5-cbc3-4de4-9b0f-7685d61aee10",
     "inputWidgets": {},
     "title": ""
    }
   },
   "outputs": [
    {
     "output_type": "display_data",
     "metadata": {
      "application/vnd.databricks.v1+output": {
       "datasetInfos": [
        {
         "name": "trainDF21",
         "typeStr": "pyspark.sql.dataframe.DataFrame",
         "schema": {
          "fields": [
           {
            "metadata": {},
            "name": "patient_nbr",
            "nullable": true,
            "type": "integer"
           },
           {
            "metadata": {},
            "name": "time_in_hospital",
            "nullable": true,
            "type": "integer"
           },
           {
            "metadata": {},
            "name": "num_procedures",
            "nullable": true,
            "type": "integer"
           },
           {
            "metadata": {},
            "name": "num_lab_procedures",
            "nullable": true,
            "type": "integer"
           },
           {
            "metadata": {},
            "name": "num_medications",
            "nullable": true,
            "type": "integer"
           },
           {
            "metadata": {},
            "name": "number_outpatient",
            "nullable": true,
            "type": "integer"
           },
           {
            "metadata": {},
            "name": "number_inpatient",
            "nullable": true,
            "type": "integer"
           },
           {
            "metadata": {},
            "name": "number_emergency",
            "nullable": true,
            "type": "integer"
           },
           {
            "metadata": {},
            "name": "number_diagnoses",
            "nullable": true,
            "type": "integer"
           },
           {
            "metadata": {},
            "name": "gender_cd",
            "nullable": true,
            "type": "integer"
           },
           {
            "metadata": {},
            "name": "DiabetesMedication",
            "nullable": true,
            "type": "integer"
           },
           {
            "metadata": {},
            "name": "readmit_flag",
            "nullable": true,
            "type": "integer"
           },
           {
            "metadata": {},
            "name": "race_cd",
            "nullable": true,
            "type": "string"
           },
           {
            "metadata": {
             "ml_attr": {
              "name": "race_cdIndex",
              "type": "nominal",
              "vals": [
               "White",
               "AfrAmr",
               "Unk",
               "Hispanic",
               "Asian"
              ]
             }
            },
            "name": "race_cdIndex",
            "nullable": false,
            "type": "double"
           },
           {
            "metadata": {
             "ml_attr": {
              "attrs": {
               "binary": [
                {
                 "idx": 0,
                 "name": "White"
                },
                {
                 "idx": 1,
                 "name": "AfrAmr"
                },
                {
                 "idx": 2,
                 "name": "Unk"
                },
                {
                 "idx": 3,
                 "name": "Hispanic"
                }
               ]
              },
              "num_attrs": 4
             }
            },
            "name": "race_cdclassVec",
            "nullable": true,
            "type": {
             "class": "org.apache.spark.ml.linalg.VectorUDT",
             "pyClass": "pyspark.ml.linalg.VectorUDT",
             "sqlType": {
              "fields": [
               {
                "metadata": {},
                "name": "type",
                "nullable": false,
                "type": "byte"
               },
               {
                "metadata": {},
                "name": "size",
                "nullable": true,
                "type": "integer"
               },
               {
                "metadata": {},
                "name": "indices",
                "nullable": true,
                "type": {
                 "containsNull": false,
                 "elementType": "integer",
                 "type": "array"
                }
               },
               {
                "metadata": {},
                "name": "values",
                "nullable": true,
                "type": {
                 "containsNull": false,
                 "elementType": "double",
                 "type": "array"
                }
               }
              ],
              "type": "struct"
             },
             "type": "udt"
            }
           }
          ],
          "type": "struct"
         },
         "tableIdentifier": null
        }
       ],
       "data": "<div class=\"ansiout\">+-----------+----------------+--------------+------------------+---------------+-----------------+----------------+----------------+----------------+---------+------------------+------------+-------+------------+---------------+\n|patient_nbr|time_in_hospital|num_procedures|num_lab_procedures|num_medications|number_outpatient|number_inpatient|number_emergency|number_diagnoses|gender_cd|DiabetesMedication|readmit_flag|race_cd|race_cdIndex|race_cdclassVec|\n+-----------+----------------+--------------+------------------+---------------+-----------------+----------------+----------------+----------------+---------+------------------+------------+-------+------------+---------------+\n|        135|               3|             1|                31|             14|                0|               1|               0|               5|        1|                 1|           0|  White|         0.0|  (4,[0],[1.0])|\n|        135|               8|             6|                77|             33|                0|               0|               0|               8|        1|                 1|           1|  White|         0.0|  (4,[0],[1.0])|\n|        729|               4|             2|                68|             23|                0|               0|               0|               9|        1|                 1|           0|  White|         0.0|  (4,[0],[1.0])|\n|        927|               5|             0|                49|              5|                0|               0|               0|               3|        1|                 1|           0| AfrAmr|         1.0|  (4,[1],[1.0])|\n|       1152|               6|             4|                45|             15|                0|               2|               0|               6|        1|                 1|           0| AfrAmr|         1.0|  (4,[1],[1.0])|\n|       1152|              12|             1|                37|             18|                0|               2|               0|               5|        1|                 1|           0| AfrAmr|         1.0|  (4,[1],[1.0])|\n|       1314|               1|             5|                47|             12|                0|               1|               0|               7|        1|                 1|           1|  White|         0.0|  (4,[0],[1.0])|\n|       2025|              12|             2|                47|             18|                0|               0|               0|               9|        1|                 1|           0|  White|         0.0|  (4,[0],[1.0])|\n|       3069|               8|             6|                57|             31|                0|               0|               0|               9|        0|                 1|           0|  White|         0.0|  (4,[0],[1.0])|\n|       4302|               1|             1|                31|              9|                0|               0|               0|               7|        1|                 0|           0|  White|         0.0|  (4,[0],[1.0])|\n|       5220|               2|             0|                15|             14|                0|               0|               0|               9|        0|                 1|           0|  White|         0.0|  (4,[0],[1.0])|\n|       5220|              11|             4|                65|             19|                0|               2|               0|               9|        0|                 1|           0|  White|         0.0|  (4,[0],[1.0])|\n|       6174|               7|             0|                77|             12|                0|               0|               0|               9|        1|                 1|           0|  White|         0.0|  (4,[0],[1.0])|\n|       6228|               4|             4|                47|             16|                0|               0|               0|               7|        1|                 0|           0|  White|         0.0|  (4,[0],[1.0])|\n|       6309|               1|             5|                35|             13|                0|               0|               0|               8|        0|                 1|           0|  White|         0.0|  (4,[0],[1.0])|\n|       6939|               6|             2|                65|             19|                0|               0|               0|               7|        0|                 1|           0|  White|         0.0|  (4,[0],[1.0])|\n|       8154|               1|             0|                58|              5|                0|               0|               0|               8|        1|                 0|           0|  White|         0.0|  (4,[0],[1.0])|\n|       8748|               2|             0|                64|             10|                0|               0|               0|               9|        0|                 1|           0| AfrAmr|         1.0|  (4,[1],[1.0])|\n|      10377|               1|             2|                33|             12|                0|               0|               0|               5|        0|                 1|           0|  White|         0.0|  (4,[0],[1.0])|\n|      10422|               4|             2|                54|              3|                0|               0|               0|               8|        1|                 0|           0| AfrAmr|         1.0|  (4,[1],[1.0])|\n+-----------+----------------+--------------+------------------+---------------+-----------------+----------------+----------------+----------------+---------+------------------+------------+-------+------------+---------------+\nonly showing top 20 rows\n\n</div>",
       "removedWidgets": [],
       "addedWidgets": {},
       "metadata": {},
       "type": "html",
       "arguments": {}
      }
     },
     "data": {
      "text/html": [
       "<style scoped>\n",
       "  .ansiout {\n",
       "    display: block;\n",
       "    unicode-bidi: embed;\n",
       "    white-space: pre-wrap;\n",
       "    word-wrap: break-word;\n",
       "    word-break: break-all;\n",
       "    font-family: \"Source Code Pro\", \"Menlo\", monospace;;\n",
       "    font-size: 13px;\n",
       "    color: #555;\n",
       "    margin-left: 4px;\n",
       "    line-height: 19px;\n",
       "  }\n",
       "</style>\n",
       "<div class=\"ansiout\">+-----------+----------------+--------------+------------------+---------------+-----------------+----------------+----------------+----------------+---------+------------------+------------+-------+------------+---------------+\n",
       "patient_nbr|time_in_hospital|num_procedures|num_lab_procedures|num_medications|number_outpatient|number_inpatient|number_emergency|number_diagnoses|gender_cd|DiabetesMedication|readmit_flag|race_cd|race_cdIndex|race_cdclassVec|\n",
       "+-----------+----------------+--------------+------------------+---------------+-----------------+----------------+----------------+----------------+---------+------------------+------------+-------+------------+---------------+\n",
       "        135|               3|             1|                31|             14|                0|               1|               0|               5|        1|                 1|           0|  White|         0.0|  (4,[0],[1.0])|\n",
       "        135|               8|             6|                77|             33|                0|               0|               0|               8|        1|                 1|           1|  White|         0.0|  (4,[0],[1.0])|\n",
       "        729|               4|             2|                68|             23|                0|               0|               0|               9|        1|                 1|           0|  White|         0.0|  (4,[0],[1.0])|\n",
       "        927|               5|             0|                49|              5|                0|               0|               0|               3|        1|                 1|           0| AfrAmr|         1.0|  (4,[1],[1.0])|\n",
       "       1152|               6|             4|                45|             15|                0|               2|               0|               6|        1|                 1|           0| AfrAmr|         1.0|  (4,[1],[1.0])|\n",
       "       1152|              12|             1|                37|             18|                0|               2|               0|               5|        1|                 1|           0| AfrAmr|         1.0|  (4,[1],[1.0])|\n",
       "       1314|               1|             5|                47|             12|                0|               1|               0|               7|        1|                 1|           1|  White|         0.0|  (4,[0],[1.0])|\n",
       "       2025|              12|             2|                47|             18|                0|               0|               0|               9|        1|                 1|           0|  White|         0.0|  (4,[0],[1.0])|\n",
       "       3069|               8|             6|                57|             31|                0|               0|               0|               9|        0|                 1|           0|  White|         0.0|  (4,[0],[1.0])|\n",
       "       4302|               1|             1|                31|              9|                0|               0|               0|               7|        1|                 0|           0|  White|         0.0|  (4,[0],[1.0])|\n",
       "       5220|               2|             0|                15|             14|                0|               0|               0|               9|        0|                 1|           0|  White|         0.0|  (4,[0],[1.0])|\n",
       "       5220|              11|             4|                65|             19|                0|               2|               0|               9|        0|                 1|           0|  White|         0.0|  (4,[0],[1.0])|\n",
       "       6174|               7|             0|                77|             12|                0|               0|               0|               9|        1|                 1|           0|  White|         0.0|  (4,[0],[1.0])|\n",
       "       6228|               4|             4|                47|             16|                0|               0|               0|               7|        1|                 0|           0|  White|         0.0|  (4,[0],[1.0])|\n",
       "       6309|               1|             5|                35|             13|                0|               0|               0|               8|        0|                 1|           0|  White|         0.0|  (4,[0],[1.0])|\n",
       "       6939|               6|             2|                65|             19|                0|               0|               0|               7|        0|                 1|           0|  White|         0.0|  (4,[0],[1.0])|\n",
       "       8154|               1|             0|                58|              5|                0|               0|               0|               8|        1|                 0|           0|  White|         0.0|  (4,[0],[1.0])|\n",
       "       8748|               2|             0|                64|             10|                0|               0|               0|               9|        0|                 1|           0| AfrAmr|         1.0|  (4,[1],[1.0])|\n",
       "      10377|               1|             2|                33|             12|                0|               0|               0|               5|        0|                 1|           0|  White|         0.0|  (4,[0],[1.0])|\n",
       "      10422|               4|             2|                54|              3|                0|               0|               0|               8|        1|                 0|           0| AfrAmr|         1.0|  (4,[1],[1.0])|\n",
       "+-----------+----------------+--------------+------------------+---------------+-----------------+----------------+----------------+----------------+---------+------------------+------------+-------+------------+---------------+\n",
       "only showing top 20 rows\n",
       "\n",
       "</div>"
      ]
     }
    }
   ],
   "execution_count": 0
  },
  {
   "cell_type": "code",
   "source": [
    "trainDF21.printSchema()"
   ],
   "metadata": {
    "application/vnd.databricks.v1+cell": {
     "showTitle": false,
     "cellMetadata": {
      "rowLimit": 10000,
      "byteLimit": 2048000
     },
     "nuid": "5c11e0f0-e60a-4fda-ac87-359b2fcf5145",
     "inputWidgets": {},
     "title": ""
    }
   },
   "outputs": [
    {
     "output_type": "display_data",
     "metadata": {
      "application/vnd.databricks.v1+output": {
       "datasetInfos": [],
       "data": "<div class=\"ansiout\">root\n |-- patient_nbr: integer (nullable = true)\n |-- time_in_hospital: integer (nullable = true)\n |-- num_procedures: integer (nullable = true)\n |-- num_lab_procedures: integer (nullable = true)\n |-- num_medications: integer (nullable = true)\n |-- number_outpatient: integer (nullable = true)\n |-- number_inpatient: integer (nullable = true)\n |-- number_emergency: integer (nullable = true)\n |-- number_diagnoses: integer (nullable = true)\n |-- gender_cd: integer (nullable = true)\n |-- DiabetesMedication: integer (nullable = true)\n |-- readmit_flag: integer (nullable = true)\n |-- race_cd: string (nullable = true)\n |-- race_cdIndex: double (nullable = false)\n |-- race_cdclassVec: vector (nullable = true)\n\n</div>",
       "removedWidgets": [],
       "addedWidgets": {},
       "metadata": {},
       "type": "html",
       "arguments": {}
      }
     },
     "data": {
      "text/html": [
       "<style scoped>\n",
       "  .ansiout {\n",
       "    display: block;\n",
       "    unicode-bidi: embed;\n",
       "    white-space: pre-wrap;\n",
       "    word-wrap: break-word;\n",
       "    word-break: break-all;\n",
       "    font-family: \"Source Code Pro\", \"Menlo\", monospace;;\n",
       "    font-size: 13px;\n",
       "    color: #555;\n",
       "    margin-left: 4px;\n",
       "    line-height: 19px;\n",
       "  }\n",
       "</style>\n",
       "<div class=\"ansiout\">root\n",
       "-- patient_nbr: integer (nullable = true)\n",
       "-- time_in_hospital: integer (nullable = true)\n",
       "-- num_procedures: integer (nullable = true)\n",
       "-- num_lab_procedures: integer (nullable = true)\n",
       "-- num_medications: integer (nullable = true)\n",
       "-- number_outpatient: integer (nullable = true)\n",
       "-- number_inpatient: integer (nullable = true)\n",
       "-- number_emergency: integer (nullable = true)\n",
       "-- number_diagnoses: integer (nullable = true)\n",
       "-- gender_cd: integer (nullable = true)\n",
       "-- DiabetesMedication: integer (nullable = true)\n",
       "-- readmit_flag: integer (nullable = true)\n",
       "-- race_cd: string (nullable = true)\n",
       "-- race_cdIndex: double (nullable = false)\n",
       "-- race_cdclassVec: vector (nullable = true)\n",
       "\n",
       "</div>"
      ]
     }
    }
   ],
   "execution_count": 0
  },
  {
   "cell_type": "code",
   "source": [
    "# Linear regression expect a vector input\n",
    "vecAssembler = VectorAssembler(inputCols=['time_in_hospital','num_procedures','num_medications', 'number_inpatient','number_emergency','number_diagnoses','DiabetesMedication'], outputCol=\"features\")\n",
    "vecTrainDF = vecAssembler.transform(trainDF21)"
   ],
   "metadata": {
    "application/vnd.databricks.v1+cell": {
     "showTitle": false,
     "cellMetadata": {
      "rowLimit": 10000,
      "byteLimit": 2048000
     },
     "nuid": "f8fa852d-9b9d-459a-81a1-e921bdb941b1",
     "inputWidgets": {},
     "title": ""
    }
   },
   "outputs": [
    {
     "output_type": "display_data",
     "metadata": {
      "application/vnd.databricks.v1+output": {
       "datasetInfos": [
        {
         "name": "vecTrainDF",
         "typeStr": "pyspark.sql.dataframe.DataFrame",
         "schema": {
          "fields": [
           {
            "metadata": {},
            "name": "patient_nbr",
            "nullable": true,
            "type": "integer"
           },
           {
            "metadata": {},
            "name": "time_in_hospital",
            "nullable": true,
            "type": "integer"
           },
           {
            "metadata": {},
            "name": "num_procedures",
            "nullable": true,
            "type": "integer"
           },
           {
            "metadata": {},
            "name": "num_lab_procedures",
            "nullable": true,
            "type": "integer"
           },
           {
            "metadata": {},
            "name": "num_medications",
            "nullable": true,
            "type": "integer"
           },
           {
            "metadata": {},
            "name": "number_outpatient",
            "nullable": true,
            "type": "integer"
           },
           {
            "metadata": {},
            "name": "number_inpatient",
            "nullable": true,
            "type": "integer"
           },
           {
            "metadata": {},
            "name": "number_emergency",
            "nullable": true,
            "type": "integer"
           },
           {
            "metadata": {},
            "name": "number_diagnoses",
            "nullable": true,
            "type": "integer"
           },
           {
            "metadata": {},
            "name": "gender_cd",
            "nullable": true,
            "type": "integer"
           },
           {
            "metadata": {},
            "name": "DiabetesMedication",
            "nullable": true,
            "type": "integer"
           },
           {
            "metadata": {},
            "name": "readmit_flag",
            "nullable": true,
            "type": "integer"
           },
           {
            "metadata": {},
            "name": "race_cd",
            "nullable": true,
            "type": "string"
           },
           {
            "metadata": {
             "ml_attr": {
              "name": "race_cdIndex",
              "type": "nominal",
              "vals": [
               "White",
               "AfrAmr",
               "Unk",
               "Hispanic",
               "Asian"
              ]
             }
            },
            "name": "race_cdIndex",
            "nullable": false,
            "type": "double"
           },
           {
            "metadata": {
             "ml_attr": {
              "attrs": {
               "binary": [
                {
                 "idx": 0,
                 "name": "White"
                },
                {
                 "idx": 1,
                 "name": "AfrAmr"
                },
                {
                 "idx": 2,
                 "name": "Unk"
                },
                {
                 "idx": 3,
                 "name": "Hispanic"
                }
               ]
              },
              "num_attrs": 4
             }
            },
            "name": "race_cdclassVec",
            "nullable": true,
            "type": {
             "class": "org.apache.spark.ml.linalg.VectorUDT",
             "pyClass": "pyspark.ml.linalg.VectorUDT",
             "sqlType": {
              "fields": [
               {
                "metadata": {},
                "name": "type",
                "nullable": false,
                "type": "byte"
               },
               {
                "metadata": {},
                "name": "size",
                "nullable": true,
                "type": "integer"
               },
               {
                "metadata": {},
                "name": "indices",
                "nullable": true,
                "type": {
                 "containsNull": false,
                 "elementType": "integer",
                 "type": "array"
                }
               },
               {
                "metadata": {},
                "name": "values",
                "nullable": true,
                "type": {
                 "containsNull": false,
                 "elementType": "double",
                 "type": "array"
                }
               }
              ],
              "type": "struct"
             },
             "type": "udt"
            }
           },
           {
            "metadata": {
             "ml_attr": {
              "attrs": {
               "numeric": [
                {
                 "idx": 0,
                 "name": "time_in_hospital"
                },
                {
                 "idx": 1,
                 "name": "num_procedures"
                },
                {
                 "idx": 2,
                 "name": "num_medications"
                },
                {
                 "idx": 3,
                 "name": "number_inpatient"
                },
                {
                 "idx": 4,
                 "name": "number_emergency"
                },
                {
                 "idx": 5,
                 "name": "number_diagnoses"
                },
                {
                 "idx": 6,
                 "name": "DiabetesMedication"
                }
               ]
              },
              "num_attrs": 7
             }
            },
            "name": "features",
            "nullable": true,
            "type": {
             "class": "org.apache.spark.ml.linalg.VectorUDT",
             "pyClass": "pyspark.ml.linalg.VectorUDT",
             "sqlType": {
              "fields": [
               {
                "metadata": {},
                "name": "type",
                "nullable": false,
                "type": "byte"
               },
               {
                "metadata": {},
                "name": "size",
                "nullable": true,
                "type": "integer"
               },
               {
                "metadata": {},
                "name": "indices",
                "nullable": true,
                "type": {
                 "containsNull": false,
                 "elementType": "integer",
                 "type": "array"
                }
               },
               {
                "metadata": {},
                "name": "values",
                "nullable": true,
                "type": {
                 "containsNull": false,
                 "elementType": "double",
                 "type": "array"
                }
               }
              ],
              "type": "struct"
             },
             "type": "udt"
            }
           }
          ],
          "type": "struct"
         },
         "tableIdentifier": null
        }
       ],
       "data": "<div class=\"ansiout\"></div>",
       "removedWidgets": [],
       "addedWidgets": {},
       "metadata": {},
       "type": "html",
       "arguments": {}
      }
     },
     "data": {
      "text/html": [
       "<style scoped>\n",
       "  .ansiout {\n",
       "    display: block;\n",
       "    unicode-bidi: embed;\n",
       "    white-space: pre-wrap;\n",
       "    word-wrap: break-word;\n",
       "    word-break: break-all;\n",
       "    font-family: \"Source Code Pro\", \"Menlo\", monospace;;\n",
       "    font-size: 13px;\n",
       "    color: #555;\n",
       "    margin-left: 4px;\n",
       "    line-height: 19px;\n",
       "  }\n",
       "</style>\n",
       "<div class=\"ansiout\"></div>"
      ]
     }
    }
   ],
   "execution_count": 0
  },
  {
   "cell_type": "code",
   "source": [
    "testDF21=transform_mdl.transform(testDF) #do the data transformation using saved parameters from training\n",
    "vecTestDF = vecAssembler.transform(testDF21) #do the feature transformation using vector assembler"
   ],
   "metadata": {
    "application/vnd.databricks.v1+cell": {
     "showTitle": false,
     "cellMetadata": {
      "rowLimit": 10000,
      "byteLimit": 2048000
     },
     "nuid": "0a0fdc97-ebb2-4e4f-b8c3-bdba614e2051",
     "inputWidgets": {},
     "title": ""
    }
   },
   "outputs": [
    {
     "output_type": "display_data",
     "metadata": {
      "application/vnd.databricks.v1+output": {
       "datasetInfos": [
        {
         "name": "testDF21",
         "typeStr": "pyspark.sql.dataframe.DataFrame",
         "schema": {
          "fields": [
           {
            "metadata": {},
            "name": "patient_nbr",
            "nullable": true,
            "type": "integer"
           },
           {
            "metadata": {},
            "name": "time_in_hospital",
            "nullable": true,
            "type": "integer"
           },
           {
            "metadata": {},
            "name": "num_procedures",
            "nullable": true,
            "type": "integer"
           },
           {
            "metadata": {},
            "name": "num_lab_procedures",
            "nullable": true,
            "type": "integer"
           },
           {
            "metadata": {},
            "name": "num_medications",
            "nullable": true,
            "type": "integer"
           },
           {
            "metadata": {},
            "name": "number_outpatient",
            "nullable": true,
            "type": "integer"
           },
           {
            "metadata": {},
            "name": "number_inpatient",
            "nullable": true,
            "type": "integer"
           },
           {
            "metadata": {},
            "name": "number_emergency",
            "nullable": true,
            "type": "integer"
           },
           {
            "metadata": {},
            "name": "number_diagnoses",
            "nullable": true,
            "type": "integer"
           },
           {
            "metadata": {},
            "name": "gender_cd",
            "nullable": true,
            "type": "integer"
           },
           {
            "metadata": {},
            "name": "DiabetesMedication",
            "nullable": true,
            "type": "integer"
           },
           {
            "metadata": {},
            "name": "readmit_flag",
            "nullable": true,
            "type": "integer"
           },
           {
            "metadata": {},
            "name": "race_cd",
            "nullable": true,
            "type": "string"
           },
           {
            "metadata": {
             "ml_attr": {
              "name": "race_cdIndex",
              "type": "nominal",
              "vals": [
               "White",
               "AfrAmr",
               "Unk",
               "Hispanic",
               "Asian"
              ]
             }
            },
            "name": "race_cdIndex",
            "nullable": false,
            "type": "double"
           },
           {
            "metadata": {
             "ml_attr": {
              "attrs": {
               "binary": [
                {
                 "idx": 0,
                 "name": "White"
                },
                {
                 "idx": 1,
                 "name": "AfrAmr"
                },
                {
                 "idx": 2,
                 "name": "Unk"
                },
                {
                 "idx": 3,
                 "name": "Hispanic"
                }
               ]
              },
              "num_attrs": 4
             }
            },
            "name": "race_cdclassVec",
            "nullable": true,
            "type": {
             "class": "org.apache.spark.ml.linalg.VectorUDT",
             "pyClass": "pyspark.ml.linalg.VectorUDT",
             "sqlType": {
              "fields": [
               {
                "metadata": {},
                "name": "type",
                "nullable": false,
                "type": "byte"
               },
               {
                "metadata": {},
                "name": "size",
                "nullable": true,
                "type": "integer"
               },
               {
                "metadata": {},
                "name": "indices",
                "nullable": true,
                "type": {
                 "containsNull": false,
                 "elementType": "integer",
                 "type": "array"
                }
               },
               {
                "metadata": {},
                "name": "values",
                "nullable": true,
                "type": {
                 "containsNull": false,
                 "elementType": "double",
                 "type": "array"
                }
               }
              ],
              "type": "struct"
             },
             "type": "udt"
            }
           }
          ],
          "type": "struct"
         },
         "tableIdentifier": null
        },
        {
         "name": "vecTestDF",
         "typeStr": "pyspark.sql.dataframe.DataFrame",
         "schema": {
          "fields": [
           {
            "metadata": {},
            "name": "patient_nbr",
            "nullable": true,
            "type": "integer"
           },
           {
            "metadata": {},
            "name": "time_in_hospital",
            "nullable": true,
            "type": "integer"
           },
           {
            "metadata": {},
            "name": "num_procedures",
            "nullable": true,
            "type": "integer"
           },
           {
            "metadata": {},
            "name": "num_lab_procedures",
            "nullable": true,
            "type": "integer"
           },
           {
            "metadata": {},
            "name": "num_medications",
            "nullable": true,
            "type": "integer"
           },
           {
            "metadata": {},
            "name": "number_outpatient",
            "nullable": true,
            "type": "integer"
           },
           {
            "metadata": {},
            "name": "number_inpatient",
            "nullable": true,
            "type": "integer"
           },
           {
            "metadata": {},
            "name": "number_emergency",
            "nullable": true,
            "type": "integer"
           },
           {
            "metadata": {},
            "name": "number_diagnoses",
            "nullable": true,
            "type": "integer"
           },
           {
            "metadata": {},
            "name": "gender_cd",
            "nullable": true,
            "type": "integer"
           },
           {
            "metadata": {},
            "name": "DiabetesMedication",
            "nullable": true,
            "type": "integer"
           },
           {
            "metadata": {},
            "name": "readmit_flag",
            "nullable": true,
            "type": "integer"
           },
           {
            "metadata": {},
            "name": "race_cd",
            "nullable": true,
            "type": "string"
           },
           {
            "metadata": {
             "ml_attr": {
              "name": "race_cdIndex",
              "type": "nominal",
              "vals": [
               "White",
               "AfrAmr",
               "Unk",
               "Hispanic",
               "Asian"
              ]
             }
            },
            "name": "race_cdIndex",
            "nullable": false,
            "type": "double"
           },
           {
            "metadata": {
             "ml_attr": {
              "attrs": {
               "binary": [
                {
                 "idx": 0,
                 "name": "White"
                },
                {
                 "idx": 1,
                 "name": "AfrAmr"
                },
                {
                 "idx": 2,
                 "name": "Unk"
                },
                {
                 "idx": 3,
                 "name": "Hispanic"
                }
               ]
              },
              "num_attrs": 4
             }
            },
            "name": "race_cdclassVec",
            "nullable": true,
            "type": {
             "class": "org.apache.spark.ml.linalg.VectorUDT",
             "pyClass": "pyspark.ml.linalg.VectorUDT",
             "sqlType": {
              "fields": [
               {
                "metadata": {},
                "name": "type",
                "nullable": false,
                "type": "byte"
               },
               {
                "metadata": {},
                "name": "size",
                "nullable": true,
                "type": "integer"
               },
               {
                "metadata": {},
                "name": "indices",
                "nullable": true,
                "type": {
                 "containsNull": false,
                 "elementType": "integer",
                 "type": "array"
                }
               },
               {
                "metadata": {},
                "name": "values",
                "nullable": true,
                "type": {
                 "containsNull": false,
                 "elementType": "double",
                 "type": "array"
                }
               }
              ],
              "type": "struct"
             },
             "type": "udt"
            }
           },
           {
            "metadata": {
             "ml_attr": {
              "attrs": {
               "numeric": [
                {
                 "idx": 0,
                 "name": "time_in_hospital"
                },
                {
                 "idx": 1,
                 "name": "num_procedures"
                },
                {
                 "idx": 2,
                 "name": "num_medications"
                },
                {
                 "idx": 3,
                 "name": "number_inpatient"
                },
                {
                 "idx": 4,
                 "name": "number_emergency"
                },
                {
                 "idx": 5,
                 "name": "number_diagnoses"
                },
                {
                 "idx": 6,
                 "name": "DiabetesMedication"
                }
               ]
              },
              "num_attrs": 7
             }
            },
            "name": "features",
            "nullable": true,
            "type": {
             "class": "org.apache.spark.ml.linalg.VectorUDT",
             "pyClass": "pyspark.ml.linalg.VectorUDT",
             "sqlType": {
              "fields": [
               {
                "metadata": {},
                "name": "type",
                "nullable": false,
                "type": "byte"
               },
               {
                "metadata": {},
                "name": "size",
                "nullable": true,
                "type": "integer"
               },
               {
                "metadata": {},
                "name": "indices",
                "nullable": true,
                "type": {
                 "containsNull": false,
                 "elementType": "integer",
                 "type": "array"
                }
               },
               {
                "metadata": {},
                "name": "values",
                "nullable": true,
                "type": {
                 "containsNull": false,
                 "elementType": "double",
                 "type": "array"
                }
               }
              ],
              "type": "struct"
             },
             "type": "udt"
            }
           }
          ],
          "type": "struct"
         },
         "tableIdentifier": null
        }
       ],
       "data": "<div class=\"ansiout\"></div>",
       "removedWidgets": [],
       "addedWidgets": {},
       "metadata": {},
       "type": "html",
       "arguments": {}
      }
     },
     "data": {
      "text/html": [
       "<style scoped>\n",
       "  .ansiout {\n",
       "    display: block;\n",
       "    unicode-bidi: embed;\n",
       "    white-space: pre-wrap;\n",
       "    word-wrap: break-word;\n",
       "    word-break: break-all;\n",
       "    font-family: \"Source Code Pro\", \"Menlo\", monospace;;\n",
       "    font-size: 13px;\n",
       "    color: #555;\n",
       "    margin-left: 4px;\n",
       "    line-height: 19px;\n",
       "  }\n",
       "</style>\n",
       "<div class=\"ansiout\"></div>"
      ]
     }
    }
   ],
   "execution_count": 0
  },
  {
   "cell_type": "code",
   "source": [
    "# Create Decision tree calssifier\n",
    "dt = DecisionTreeClassifier(featuresCol=\"features\", labelCol=\"readmit_flag\", maxDepth = 20)\n",
    "dtModel = dt.fit(vecTrainDF)\n",
    "predict_train = dtModel.transform(vecTrainDF)\n",
    "predict_train.select('readmit_flag', 'rawPrediction', 'prediction', 'probability').show(10)"
   ],
   "metadata": {
    "application/vnd.databricks.v1+cell": {
     "showTitle": false,
     "cellMetadata": {
      "rowLimit": 10000,
      "byteLimit": 2048000
     },
     "nuid": "2b2b03c5-11a2-4374-8d3c-c7ce7a6c4182",
     "inputWidgets": {},
     "title": ""
    }
   },
   "outputs": [
    {
     "output_type": "display_data",
     "metadata": {
      "application/vnd.databricks.v1+output": {
       "datasetInfos": [
        {
         "name": "predict_train",
         "typeStr": "pyspark.sql.dataframe.DataFrame",
         "schema": {
          "fields": [
           {
            "metadata": {},
            "name": "patient_nbr",
            "nullable": true,
            "type": "integer"
           },
           {
            "metadata": {},
            "name": "time_in_hospital",
            "nullable": true,
            "type": "integer"
           },
           {
            "metadata": {},
            "name": "num_procedures",
            "nullable": true,
            "type": "integer"
           },
           {
            "metadata": {},
            "name": "num_lab_procedures",
            "nullable": true,
            "type": "integer"
           },
           {
            "metadata": {},
            "name": "num_medications",
            "nullable": true,
            "type": "integer"
           },
           {
            "metadata": {},
            "name": "number_outpatient",
            "nullable": true,
            "type": "integer"
           },
           {
            "metadata": {},
            "name": "number_inpatient",
            "nullable": true,
            "type": "integer"
           },
           {
            "metadata": {},
            "name": "number_emergency",
            "nullable": true,
            "type": "integer"
           },
           {
            "metadata": {},
            "name": "number_diagnoses",
            "nullable": true,
            "type": "integer"
           },
           {
            "metadata": {},
            "name": "gender_cd",
            "nullable": true,
            "type": "integer"
           },
           {
            "metadata": {},
            "name": "DiabetesMedication",
            "nullable": true,
            "type": "integer"
           },
           {
            "metadata": {},
            "name": "readmit_flag",
            "nullable": true,
            "type": "integer"
           },
           {
            "metadata": {},
            "name": "race_cd",
            "nullable": true,
            "type": "string"
           },
           {
            "metadata": {
             "ml_attr": {
              "name": "race_cdIndex",
              "type": "nominal",
              "vals": [
               "White",
               "AfrAmr",
               "Unk",
               "Hispanic",
               "Asian"
              ]
             }
            },
            "name": "race_cdIndex",
            "nullable": false,
            "type": "double"
           },
           {
            "metadata": {
             "ml_attr": {
              "attrs": {
               "binary": [
                {
                 "idx": 0,
                 "name": "White"
                },
                {
                 "idx": 1,
                 "name": "AfrAmr"
                },
                {
                 "idx": 2,
                 "name": "Unk"
                },
                {
                 "idx": 3,
                 "name": "Hispanic"
                }
               ]
              },
              "num_attrs": 4
             }
            },
            "name": "race_cdclassVec",
            "nullable": true,
            "type": {
             "class": "org.apache.spark.ml.linalg.VectorUDT",
             "pyClass": "pyspark.ml.linalg.VectorUDT",
             "sqlType": {
              "fields": [
               {
                "metadata": {},
                "name": "type",
                "nullable": false,
                "type": "byte"
               },
               {
                "metadata": {},
                "name": "size",
                "nullable": true,
                "type": "integer"
               },
               {
                "metadata": {},
                "name": "indices",
                "nullable": true,
                "type": {
                 "containsNull": false,
                 "elementType": "integer",
                 "type": "array"
                }
               },
               {
                "metadata": {},
                "name": "values",
                "nullable": true,
                "type": {
                 "containsNull": false,
                 "elementType": "double",
                 "type": "array"
                }
               }
              ],
              "type": "struct"
             },
             "type": "udt"
            }
           },
           {
            "metadata": {
             "ml_attr": {
              "attrs": {
               "numeric": [
                {
                 "idx": 0,
                 "name": "time_in_hospital"
                },
                {
                 "idx": 1,
                 "name": "num_procedures"
                },
                {
                 "idx": 2,
                 "name": "num_medications"
                },
                {
                 "idx": 3,
                 "name": "number_inpatient"
                },
                {
                 "idx": 4,
                 "name": "number_emergency"
                },
                {
                 "idx": 5,
                 "name": "number_diagnoses"
                },
                {
                 "idx": 6,
                 "name": "DiabetesMedication"
                }
               ]
              },
              "num_attrs": 7
             }
            },
            "name": "features",
            "nullable": true,
            "type": {
             "class": "org.apache.spark.ml.linalg.VectorUDT",
             "pyClass": "pyspark.ml.linalg.VectorUDT",
             "sqlType": {
              "fields": [
               {
                "metadata": {},
                "name": "type",
                "nullable": false,
                "type": "byte"
               },
               {
                "metadata": {},
                "name": "size",
                "nullable": true,
                "type": "integer"
               },
               {
                "metadata": {},
                "name": "indices",
                "nullable": true,
                "type": {
                 "containsNull": false,
                 "elementType": "integer",
                 "type": "array"
                }
               },
               {
                "metadata": {},
                "name": "values",
                "nullable": true,
                "type": {
                 "containsNull": false,
                 "elementType": "double",
                 "type": "array"
                }
               }
              ],
              "type": "struct"
             },
             "type": "udt"
            }
           },
           {
            "metadata": {
             "ml_attr": {
              "num_attrs": 2
             }
            },
            "name": "rawPrediction",
            "nullable": true,
            "type": {
             "class": "org.apache.spark.ml.linalg.VectorUDT",
             "pyClass": "pyspark.ml.linalg.VectorUDT",
             "sqlType": {
              "fields": [
               {
                "metadata": {},
                "name": "type",
                "nullable": false,
                "type": "byte"
               },
               {
                "metadata": {},
                "name": "size",
                "nullable": true,
                "type": "integer"
               },
               {
                "metadata": {},
                "name": "indices",
                "nullable": true,
                "type": {
                 "containsNull": false,
                 "elementType": "integer",
                 "type": "array"
                }
               },
               {
                "metadata": {},
                "name": "values",
                "nullable": true,
                "type": {
                 "containsNull": false,
                 "elementType": "double",
                 "type": "array"
                }
               }
              ],
              "type": "struct"
             },
             "type": "udt"
            }
           },
           {
            "metadata": {
             "ml_attr": {
              "num_attrs": 2
             }
            },
            "name": "probability",
            "nullable": true,
            "type": {
             "class": "org.apache.spark.ml.linalg.VectorUDT",
             "pyClass": "pyspark.ml.linalg.VectorUDT",
             "sqlType": {
              "fields": [
               {
                "metadata": {},
                "name": "type",
                "nullable": false,
                "type": "byte"
               },
               {
                "metadata": {},
                "name": "size",
                "nullable": true,
                "type": "integer"
               },
               {
                "metadata": {},
                "name": "indices",
                "nullable": true,
                "type": {
                 "containsNull": false,
                 "elementType": "integer",
                 "type": "array"
                }
               },
               {
                "metadata": {},
                "name": "values",
                "nullable": true,
                "type": {
                 "containsNull": false,
                 "elementType": "double",
                 "type": "array"
                }
               }
              ],
              "type": "struct"
             },
             "type": "udt"
            }
           },
           {
            "metadata": {
             "ml_attr": {
              "num_vals": 2,
              "type": "nominal"
             }
            },
            "name": "prediction",
            "nullable": false,
            "type": "double"
           }
          ],
          "type": "struct"
         },
         "tableIdentifier": null
        }
       ],
       "data": "<div class=\"ansiout\">+------------+-------------+----------+--------------------+\n|readmit_flag|rawPrediction|prediction|         probability|\n+------------+-------------+----------+--------------------+\n|           0|    [9.0,0.0]|       0.0|           [1.0,0.0]|\n|           1| [375.0,35.0]|       0.0|[0.91463414634146...|\n|           0| [262.0,27.0]|       0.0|[0.90657439446366...|\n|           0|   [81.0,1.0]|       0.0|[0.98780487804878...|\n|           0|   [30.0,0.0]|       0.0|           [1.0,0.0]|\n|           0|   [22.0,0.0]|       0.0|           [1.0,0.0]|\n|           1|    [0.0,1.0]|       1.0|           [0.0,1.0]|\n|           0|   [58.0,2.0]|       0.0|[0.96666666666666...|\n|           0| [375.0,35.0]|       0.0|[0.91463414634146...|\n|           0| [356.0,10.0]|       0.0|[0.97267759562841...|\n+------------+-------------+----------+--------------------+\nonly showing top 10 rows\n\n</div>",
       "removedWidgets": [],
       "addedWidgets": {},
       "metadata": {},
       "type": "html",
       "arguments": {}
      }
     },
     "data": {
      "text/html": [
       "<style scoped>\n",
       "  .ansiout {\n",
       "    display: block;\n",
       "    unicode-bidi: embed;\n",
       "    white-space: pre-wrap;\n",
       "    word-wrap: break-word;\n",
       "    word-break: break-all;\n",
       "    font-family: \"Source Code Pro\", \"Menlo\", monospace;;\n",
       "    font-size: 13px;\n",
       "    color: #555;\n",
       "    margin-left: 4px;\n",
       "    line-height: 19px;\n",
       "  }\n",
       "</style>\n",
       "<div class=\"ansiout\">+------------+-------------+----------+--------------------+\n",
       "readmit_flag|rawPrediction|prediction|         probability|\n",
       "+------------+-------------+----------+--------------------+\n",
       "           0|    [9.0,0.0]|       0.0|           [1.0,0.0]|\n",
       "           1| [375.0,35.0]|       0.0|[0.91463414634146...|\n",
       "           0| [262.0,27.0]|       0.0|[0.90657439446366...|\n",
       "           0|   [81.0,1.0]|       0.0|[0.98780487804878...|\n",
       "           0|   [30.0,0.0]|       0.0|           [1.0,0.0]|\n",
       "           0|   [22.0,0.0]|       0.0|           [1.0,0.0]|\n",
       "           1|    [0.0,1.0]|       1.0|           [0.0,1.0]|\n",
       "           0|   [58.0,2.0]|       0.0|[0.96666666666666...|\n",
       "           0| [375.0,35.0]|       0.0|[0.91463414634146...|\n",
       "           0| [356.0,10.0]|       0.0|[0.97267759562841...|\n",
       "+------------+-------------+----------+--------------------+\n",
       "only showing top 10 rows\n",
       "\n",
       "</div>"
      ]
     }
    }
   ],
   "execution_count": 0
  },
  {
   "cell_type": "code",
   "source": [
    "# Make predictions on testing dataset\n",
    "predict_test = dtModel.transform(vecTestDF) #make predictions using the trained model\n",
    "predict_test.groupBy('prediction').count().show()"
   ],
   "metadata": {
    "application/vnd.databricks.v1+cell": {
     "showTitle": false,
     "cellMetadata": {
      "rowLimit": 10000,
      "byteLimit": 2048000
     },
     "nuid": "a03d2a6e-81c1-40ec-bb3e-95d9aebaa32c",
     "inputWidgets": {},
     "title": ""
    }
   },
   "outputs": [
    {
     "output_type": "display_data",
     "metadata": {
      "application/vnd.databricks.v1+output": {
       "datasetInfos": [
        {
         "name": "predict_test",
         "typeStr": "pyspark.sql.dataframe.DataFrame",
         "schema": {
          "fields": [
           {
            "metadata": {},
            "name": "patient_nbr",
            "nullable": true,
            "type": "integer"
           },
           {
            "metadata": {},
            "name": "time_in_hospital",
            "nullable": true,
            "type": "integer"
           },
           {
            "metadata": {},
            "name": "num_procedures",
            "nullable": true,
            "type": "integer"
           },
           {
            "metadata": {},
            "name": "num_lab_procedures",
            "nullable": true,
            "type": "integer"
           },
           {
            "metadata": {},
            "name": "num_medications",
            "nullable": true,
            "type": "integer"
           },
           {
            "metadata": {},
            "name": "number_outpatient",
            "nullable": true,
            "type": "integer"
           },
           {
            "metadata": {},
            "name": "number_inpatient",
            "nullable": true,
            "type": "integer"
           },
           {
            "metadata": {},
            "name": "number_emergency",
            "nullable": true,
            "type": "integer"
           },
           {
            "metadata": {},
            "name": "number_diagnoses",
            "nullable": true,
            "type": "integer"
           },
           {
            "metadata": {},
            "name": "gender_cd",
            "nullable": true,
            "type": "integer"
           },
           {
            "metadata": {},
            "name": "DiabetesMedication",
            "nullable": true,
            "type": "integer"
           },
           {
            "metadata": {},
            "name": "readmit_flag",
            "nullable": true,
            "type": "integer"
           },
           {
            "metadata": {},
            "name": "race_cd",
            "nullable": true,
            "type": "string"
           },
           {
            "metadata": {
             "ml_attr": {
              "name": "race_cdIndex",
              "type": "nominal",
              "vals": [
               "White",
               "AfrAmr",
               "Unk",
               "Hispanic",
               "Asian"
              ]
             }
            },
            "name": "race_cdIndex",
            "nullable": false,
            "type": "double"
           },
           {
            "metadata": {
             "ml_attr": {
              "attrs": {
               "binary": [
                {
                 "idx": 0,
                 "name": "White"
                },
                {
                 "idx": 1,
                 "name": "AfrAmr"
                },
                {
                 "idx": 2,
                 "name": "Unk"
                },
                {
                 "idx": 3,
                 "name": "Hispanic"
                }
               ]
              },
              "num_attrs": 4
             }
            },
            "name": "race_cdclassVec",
            "nullable": true,
            "type": {
             "class": "org.apache.spark.ml.linalg.VectorUDT",
             "pyClass": "pyspark.ml.linalg.VectorUDT",
             "sqlType": {
              "fields": [
               {
                "metadata": {},
                "name": "type",
                "nullable": false,
                "type": "byte"
               },
               {
                "metadata": {},
                "name": "size",
                "nullable": true,
                "type": "integer"
               },
               {
                "metadata": {},
                "name": "indices",
                "nullable": true,
                "type": {
                 "containsNull": false,
                 "elementType": "integer",
                 "type": "array"
                }
               },
               {
                "metadata": {},
                "name": "values",
                "nullable": true,
                "type": {
                 "containsNull": false,
                 "elementType": "double",
                 "type": "array"
                }
               }
              ],
              "type": "struct"
             },
             "type": "udt"
            }
           },
           {
            "metadata": {
             "ml_attr": {
              "attrs": {
               "numeric": [
                {
                 "idx": 0,
                 "name": "time_in_hospital"
                },
                {
                 "idx": 1,
                 "name": "num_procedures"
                },
                {
                 "idx": 2,
                 "name": "num_medications"
                },
                {
                 "idx": 3,
                 "name": "number_inpatient"
                },
                {
                 "idx": 4,
                 "name": "number_emergency"
                },
                {
                 "idx": 5,
                 "name": "number_diagnoses"
                },
                {
                 "idx": 6,
                 "name": "DiabetesMedication"
                }
               ]
              },
              "num_attrs": 7
             }
            },
            "name": "features",
            "nullable": true,
            "type": {
             "class": "org.apache.spark.ml.linalg.VectorUDT",
             "pyClass": "pyspark.ml.linalg.VectorUDT",
             "sqlType": {
              "fields": [
               {
                "metadata": {},
                "name": "type",
                "nullable": false,
                "type": "byte"
               },
               {
                "metadata": {},
                "name": "size",
                "nullable": true,
                "type": "integer"
               },
               {
                "metadata": {},
                "name": "indices",
                "nullable": true,
                "type": {
                 "containsNull": false,
                 "elementType": "integer",
                 "type": "array"
                }
               },
               {
                "metadata": {},
                "name": "values",
                "nullable": true,
                "type": {
                 "containsNull": false,
                 "elementType": "double",
                 "type": "array"
                }
               }
              ],
              "type": "struct"
             },
             "type": "udt"
            }
           },
           {
            "metadata": {
             "ml_attr": {
              "num_attrs": 2
             }
            },
            "name": "rawPrediction",
            "nullable": true,
            "type": {
             "class": "org.apache.spark.ml.linalg.VectorUDT",
             "pyClass": "pyspark.ml.linalg.VectorUDT",
             "sqlType": {
              "fields": [
               {
                "metadata": {},
                "name": "type",
                "nullable": false,
                "type": "byte"
               },
               {
                "metadata": {},
                "name": "size",
                "nullable": true,
                "type": "integer"
               },
               {
                "metadata": {},
                "name": "indices",
                "nullable": true,
                "type": {
                 "containsNull": false,
                 "elementType": "integer",
                 "type": "array"
                }
               },
               {
                "metadata": {},
                "name": "values",
                "nullable": true,
                "type": {
                 "containsNull": false,
                 "elementType": "double",
                 "type": "array"
                }
               }
              ],
              "type": "struct"
             },
             "type": "udt"
            }
           },
           {
            "metadata": {
             "ml_attr": {
              "num_attrs": 2
             }
            },
            "name": "probability",
            "nullable": true,
            "type": {
             "class": "org.apache.spark.ml.linalg.VectorUDT",
             "pyClass": "pyspark.ml.linalg.VectorUDT",
             "sqlType": {
              "fields": [
               {
                "metadata": {},
                "name": "type",
                "nullable": false,
                "type": "byte"
               },
               {
                "metadata": {},
                "name": "size",
                "nullable": true,
                "type": "integer"
               },
               {
                "metadata": {},
                "name": "indices",
                "nullable": true,
                "type": {
                 "containsNull": false,
                 "elementType": "integer",
                 "type": "array"
                }
               },
               {
                "metadata": {},
                "name": "values",
                "nullable": true,
                "type": {
                 "containsNull": false,
                 "elementType": "double",
                 "type": "array"
                }
               }
              ],
              "type": "struct"
             },
             "type": "udt"
            }
           },
           {
            "metadata": {
             "ml_attr": {
              "num_vals": 2,
              "type": "nominal"
             }
            },
            "name": "prediction",
            "nullable": false,
            "type": "double"
           }
          ],
          "type": "struct"
         },
         "tableIdentifier": null
        }
       ],
       "data": "<div class=\"ansiout\">+----------+-----+\n|prediction|count|\n+----------+-----+\n|       0.0|33899|\n|       1.0| 1583|\n+----------+-----+\n\n</div>",
       "removedWidgets": [],
       "addedWidgets": {},
       "metadata": {},
       "type": "html",
       "arguments": {}
      }
     },
     "data": {
      "text/html": [
       "<style scoped>\n",
       "  .ansiout {\n",
       "    display: block;\n",
       "    unicode-bidi: embed;\n",
       "    white-space: pre-wrap;\n",
       "    word-wrap: break-word;\n",
       "    word-break: break-all;\n",
       "    font-family: \"Source Code Pro\", \"Menlo\", monospace;;\n",
       "    font-size: 13px;\n",
       "    color: #555;\n",
       "    margin-left: 4px;\n",
       "    line-height: 19px;\n",
       "  }\n",
       "</style>\n",
       "<div class=\"ansiout\">+----------+-----+\n",
       "prediction|count|\n",
       "+----------+-----+\n",
       "       0.0|33899|\n",
       "       1.0| 1583|\n",
       "+----------+-----+\n",
       "\n",
       "</div>"
      ]
     }
    }
   ],
   "execution_count": 0
  },
  {
   "cell_type": "code",
   "source": [
    "eval = BinaryClassificationEvaluator(rawPredictionCol = \"prediction\", labelCol = \"readmit_flag\")\n",
    "auc_train = eval.evaluate(predict_train)\n",
    "print(auc_train)\n",
    "\n",
    "auc_test = eval.evaluate(predict_test)\n",
    "print(auc_test)"
   ],
   "metadata": {
    "application/vnd.databricks.v1+cell": {
     "showTitle": false,
     "cellMetadata": {
      "rowLimit": 10000,
      "byteLimit": 2048000
     },
     "nuid": "98dd8d65-8d05-4ede-bd0e-ba9c70f2df3d",
     "inputWidgets": {},
     "title": ""
    }
   },
   "outputs": [
    {
     "output_type": "display_data",
     "metadata": {
      "application/vnd.databricks.v1+output": {
       "datasetInfos": [],
       "data": "<div class=\"ansiout\">0.6480782562082884\n0.5144661885938187\n</div>",
       "removedWidgets": [],
       "addedWidgets": {},
       "metadata": {},
       "type": "html",
       "arguments": {}
      }
     },
     "data": {
      "text/html": [
       "<style scoped>\n",
       "  .ansiout {\n",
       "    display: block;\n",
       "    unicode-bidi: embed;\n",
       "    white-space: pre-wrap;\n",
       "    word-wrap: break-word;\n",
       "    word-break: break-all;\n",
       "    font-family: \"Source Code Pro\", \"Menlo\", monospace;;\n",
       "    font-size: 13px;\n",
       "    color: #555;\n",
       "    margin-left: 4px;\n",
       "    line-height: 19px;\n",
       "  }\n",
       "</style>\n",
       "<div class=\"ansiout\">0.6480782562082884\n",
       "0.5144661885938187\n",
       "</div>"
      ]
     }
    }
   ],
   "execution_count": 0
  }
 ],
 "metadata": {
  "application/vnd.databricks.v1+notebook": {
   "notebookName": "Diabetes Readmission modelling using Decission Trees",
   "dashboards": [],
   "notebookMetadata": {
    "pythonIndentUnit": 2,
    "mostRecentlyExecutedCommandWithImplicitDF": {
     "commandId": 4107560357685426,
     "dataframes": [
      "_sqldf"
     ]
    }
   },
   "language": "python",
   "widgets": {}
  }
 },
 "nbformat": 4,
 "nbformat_minor": 0
}
